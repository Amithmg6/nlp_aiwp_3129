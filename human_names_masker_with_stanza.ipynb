{
 "cells": [
  {
   "cell_type": "code",
   "execution_count": 1,
   "id": "fba3b67d",
   "metadata": {},
   "outputs": [
    {
     "name": "stderr",
     "output_type": "stream",
     "text": [
      "c:\\Users\\advac\\anaconda3\\envs\\aiwp_3129\\Lib\\site-packages\\tqdm\\auto.py:21: TqdmWarning: IProgress not found. Please update jupyter and ipywidgets. See https://ipywidgets.readthedocs.io/en/stable/user_install.html\n",
      "  from .autonotebook import tqdm as notebook_tqdm\n"
     ]
    }
   ],
   "source": [
    "import re\n",
    "import stanza\n",
    "import pandas as pd\n"
   ]
  },
  {
   "cell_type": "code",
   "execution_count": 2,
   "id": "9c3255de",
   "metadata": {},
   "outputs": [
    {
     "name": "stderr",
     "output_type": "stream",
     "text": [
      "Downloading https://raw.githubusercontent.com/stanfordnlp/stanza-resources/main/resources_1.10.0.json: 426kB [00:00, 12.2MB/s]                    \n",
      "2025-04-21 19:42:21 INFO: Downloaded file to C:\\Users\\advac\\stanza_resources\\resources.json\n",
      "2025-04-21 19:42:22 INFO: Downloading default packages for language: en (English) ...\n",
      "Downloading https://huggingface.co/stanfordnlp/stanza-en/resolve/v1.10.0/models/default.zip: 100%|██████████| 526M/526M [00:50<00:00, 10.5MB/s] \n",
      "2025-04-21 19:43:14 INFO: Downloaded file to C:\\Users\\advac\\stanza_resources\\en\\default.zip\n",
      "2025-04-21 19:43:18 INFO: Finished downloading models and saved to C:\\Users\\advac\\stanza_resources\n"
     ]
    }
   ],
   "source": [
    "\n",
    "# Download the English model if not already downloaded\n",
    "try:\n",
    "    stanza.download('en')\n",
    "except:\n",
    "    pass # Already downloaded\n"
   ]
  },
  {
   "cell_type": "code",
   "execution_count": 3,
   "id": "c2c6098f",
   "metadata": {},
   "outputs": [
    {
     "name": "stderr",
     "output_type": "stream",
     "text": [
      "2025-04-21 19:44:05 INFO: Checking for updates to resources.json in case models have been updated.  Note: this behavior can be turned off with download_method=None or download_method=DownloadMethod.REUSE_RESOURCES\n",
      "Downloading https://raw.githubusercontent.com/stanfordnlp/stanza-resources/main/resources_1.10.0.json: 426kB [00:00, 444kB/s]                     \n",
      "2025-04-21 19:44:06 INFO: Downloaded file to C:\\Users\\advac\\stanza_resources\\resources.json\n",
      "2025-04-21 19:44:06 WARNING: Language en package default expects mwt, which has been added\n",
      "2025-04-21 19:44:07 INFO: Loading these models for language: en (English):\n",
      "=========================================\n",
      "| Processor | Package                   |\n",
      "-----------------------------------------\n",
      "| tokenize  | combined                  |\n",
      "| mwt       | combined                  |\n",
      "| ner       | ontonotes-ww-multi_charlm |\n",
      "=========================================\n",
      "\n",
      "2025-04-21 19:44:07 INFO: Using device: cpu\n",
      "2025-04-21 19:44:07 INFO: Loading: tokenize\n",
      "2025-04-21 19:44:11 INFO: Loading: mwt\n",
      "2025-04-21 19:44:11 INFO: Loading: ner\n",
      "2025-04-21 19:44:18 INFO: Done loading processors!\n"
     ]
    }
   ],
   "source": [
    "\n",
    "# Initialize the pipeline\n",
    "nlp = stanza.Pipeline('en', processors='tokenize,ner')\n",
    "\n",
    "def replace_names(sentence):\n",
    "    \"\"\"\n",
    "    Detects and replaces human names in a sentence with \"he/she\".\n",
    "\n",
    "    Args:\n",
    "        sentence (str): The input sentence.\n",
    "\n",
    "    Returns:\n",
    "        str: The sentence with human names replaced by \"he/she\".\n",
    "    \"\"\"\n",
    "    if isinstance(sentence, str):\n",
    "        doc = nlp(sentence)\n",
    "        new_text = \"\"\n",
    "        last_end = 0\n",
    "        for ent in doc.ents:\n",
    "            if ent.type == 'PERSON':\n",
    "                new_text += sentence[last_end:ent.start_char] + \"he/she\"\n",
    "                last_end = ent.end_char\n",
    "        new_text += sentence[last_end:]\n",
    "        return new_text\n",
    "    return sentence # Return original if not a string\n"
   ]
  },
  {
   "cell_type": "markdown",
   "id": "3e2694fe",
   "metadata": {},
   "source": [
    "#### Loading the text data for masking human names only"
   ]
  },
  {
   "cell_type": "code",
   "execution_count": 4,
   "id": "fa4c4208",
   "metadata": {},
   "outputs": [
    {
     "data": {
      "text/plain": [
       "b'c:\\\\Users\\\\advac\\\\Downloads\\\\github_repos\\\\nlp_aiwp_3129'"
      ]
     },
     "execution_count": 4,
     "metadata": {},
     "output_type": "execute_result"
    }
   ],
   "source": [
    "import os\n",
    "os.getcwdb()"
   ]
  },
  {
   "cell_type": "code",
   "execution_count": 16,
   "id": "d5a134bb",
   "metadata": {},
   "outputs": [],
   "source": [
    "df_flip = pd.read_csv(\"C:/Users/advac/Downloads/github_repos/nlp_aiwp_3129/dataset/text_file.csv\")"
   ]
  },
  {
   "cell_type": "code",
   "execution_count": 20,
   "id": "a547ba5a",
   "metadata": {},
   "outputs": [
    {
     "name": "stdout",
     "output_type": "stream",
     "text": [
      "<class 'pandas.core.frame.DataFrame'>\n",
      "RangeIndex: 13 entries, 0 to 12\n",
      "Data columns (total 2 columns):\n",
      " #   Column   Non-Null Count  Dtype \n",
      "---  ------   --------------  ----- \n",
      " 0   id       13 non-null     int64 \n",
      " 1   comment  13 non-null     object\n",
      "dtypes: int64(1), object(1)\n",
      "memory usage: 340.0+ bytes\n"
     ]
    }
   ],
   "source": [
    "df_flip.info()"
   ]
  },
  {
   "cell_type": "code",
   "execution_count": 19,
   "id": "c8258634",
   "metadata": {},
   "outputs": [],
   "source": [
    "# Apply the replace_names function to the 'text_column'\n",
    "df_flip_100['comment'] = df_flip_100['comment'].apply(replace_names)\n"
   ]
  },
  {
   "cell_type": "code",
   "execution_count": 21,
   "id": "be29e0d9",
   "metadata": {},
   "outputs": [
    {
     "data": {
      "text/plain": [
       "0    he/she portrayal of the angry young man in \"he...\n",
       "1    he/she ability to transform into any character...\n",
       "2    he/she subtle yet impactful acting in films li...\n",
       "3    he/she intense and Oscarwinning performance in...\n",
       "4    he/she dedication to method acting and his tra...\n",
       "Name: comment, dtype: object"
      ]
     },
     "execution_count": 21,
     "metadata": {},
     "output_type": "execute_result"
    }
   ],
   "source": [
    "\n",
    "# Print the modified DataFrame\n",
    "df_flip_100['comment'].head()"
   ]
  },
  {
   "cell_type": "code",
   "execution_count": null,
   "id": "71edb3b9",
   "metadata": {},
   "outputs": [],
   "source": []
  }
 ],
 "metadata": {
  "kernelspec": {
   "display_name": "aiwp_3129",
   "language": "python",
   "name": "python3"
  },
  "language_info": {
   "codemirror_mode": {
    "name": "ipython",
    "version": 3
   },
   "file_extension": ".py",
   "mimetype": "text/x-python",
   "name": "python",
   "nbconvert_exporter": "python",
   "pygments_lexer": "ipython3",
   "version": "3.12.9"
  }
 },
 "nbformat": 4,
 "nbformat_minor": 5
}
