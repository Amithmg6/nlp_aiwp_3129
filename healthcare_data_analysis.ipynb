{
 "cells": [
  {
   "cell_type": "markdown",
   "id": "6c71ae13",
   "metadata": {},
   "source": [
    "# HealthCare Analysis"
   ]
  },
  {
   "cell_type": "markdown",
   "id": "a0c494e5",
   "metadata": {},
   "source": [
    "## EDA"
   ]
  },
  {
   "cell_type": "markdown",
   "metadata": {},
   "source": [
    "Libraries and Data"
   ]
  },
  {
   "cell_type": "code",
   "execution_count": 1,
   "id": "81c24a07",
   "metadata": {},
   "outputs": [],
   "source": [
    "import os\n",
    "import pandas as pd\n",
    "import numpy as np\n",
    "import matplotlib.pyplot as plt\n",
    "import re\n"
   ]
  },
  {
   "cell_type": "code",
   "execution_count": 2,
   "id": "43e6653d",
   "metadata": {},
   "outputs": [
    {
     "name": "stdout",
     "output_type": "stream",
     "text": [
      "You are here: b'/Users/amithmg/Documents/GitHub/nlp_aiwp_3129'\n"
     ]
    }
   ],
   "source": [
    "print(\"You are here:\",os.getcwdb())"
   ]
  },
  {
   "cell_type": "code",
   "execution_count": 3,
   "id": "d49fbfa9",
   "metadata": {},
   "outputs": [
    {
     "name": "stdout",
     "output_type": "stream",
     "text": [
      "zsh:1: command not found: dir\n"
     ]
    }
   ],
   "source": [
    "!dir"
   ]
  },
  {
   "cell_type": "code",
   "execution_count": 4,
   "id": "9737e9a9",
   "metadata": {},
   "outputs": [],
   "source": [
    "hc_df = pd.read_csv('dataset/kaggle healthcare_dataset.csv')"
   ]
  },
  {
   "cell_type": "markdown",
   "id": "f30a9d0d",
   "metadata": {},
   "source": [
    "### Data description and detailing (READMe)"
   ]
  },
  {
   "cell_type": "markdown",
   "id": "01b8e495",
   "metadata": {},
   "source": [
    "* Health care data has 55500 records and 15 variables\n",
    "* Patient details are shared in this data such as name, age, gender, medication, doctor and more.\n",
    "* Data types(dtypes): float64(1), int64(2), object(12).\n",
    "* Data types must be changed for variables listed below:\n",
    "    * Discharge Date: object to Date\n",
    "    * Date of Admission: object to Date\n",
    "\n",
    "\n"
   ]
  },
  {
   "cell_type": "code",
   "execution_count": 5,
   "id": "2a00814c",
   "metadata": {},
   "outputs": [
    {
     "data": {
      "text/plain": [
       "(55500, 15)"
      ]
     },
     "execution_count": 5,
     "metadata": {},
     "output_type": "execute_result"
    }
   ],
   "source": [
    "hc_df.shape"
   ]
  },
  {
   "cell_type": "code",
   "execution_count": 6,
   "id": "0e1c846a",
   "metadata": {},
   "outputs": [
    {
     "data": {
      "text/plain": [
       "Index(['Name', 'Age', 'Gender', 'Blood Type', 'Medical Condition',\n",
       "       'Date of Admission', 'Doctor', 'Hospital', 'Insurance Provider',\n",
       "       'Billing Amount', 'Room Number', 'Admission Type', 'Discharge Date',\n",
       "       'Medication', 'Test Results'],\n",
       "      dtype='object')"
      ]
     },
     "execution_count": 6,
     "metadata": {},
     "output_type": "execute_result"
    }
   ],
   "source": [
    "hc_df.columns"
   ]
  },
  {
   "cell_type": "code",
   "execution_count": 7,
   "id": "03696ab8",
   "metadata": {},
   "outputs": [
    {
     "name": "stdout",
     "output_type": "stream",
     "text": [
      "<class 'pandas.core.frame.DataFrame'>\n",
      "RangeIndex: 55500 entries, 0 to 55499\n",
      "Data columns (total 15 columns):\n",
      " #   Column              Non-Null Count  Dtype  \n",
      "---  ------              --------------  -----  \n",
      " 0   Name                55500 non-null  object \n",
      " 1   Age                 55500 non-null  int64  \n",
      " 2   Gender              55500 non-null  object \n",
      " 3   Blood Type          55500 non-null  object \n",
      " 4   Medical Condition   55500 non-null  object \n",
      " 5   Date of Admission   55500 non-null  object \n",
      " 6   Doctor              55500 non-null  object \n",
      " 7   Hospital            55500 non-null  object \n",
      " 8   Insurance Provider  55500 non-null  object \n",
      " 9   Billing Amount      55500 non-null  float64\n",
      " 10  Room Number         55500 non-null  int64  \n",
      " 11  Admission Type      55500 non-null  object \n",
      " 12  Discharge Date      55500 non-null  object \n",
      " 13  Medication          55500 non-null  object \n",
      " 14  Test Results        55500 non-null  object \n",
      "dtypes: float64(1), int64(2), object(12)\n",
      "memory usage: 6.4+ MB\n"
     ]
    }
   ],
   "source": [
    "hc_df.info()"
   ]
  },
  {
   "cell_type": "code",
   "execution_count": 8,
   "id": "0b68ae23",
   "metadata": {},
   "outputs": [
    {
     "data": {
      "text/html": [
       "<div>\n",
       "<style scoped>\n",
       "    .dataframe tbody tr th:only-of-type {\n",
       "        vertical-align: middle;\n",
       "    }\n",
       "\n",
       "    .dataframe tbody tr th {\n",
       "        vertical-align: top;\n",
       "    }\n",
       "\n",
       "    .dataframe thead th {\n",
       "        text-align: right;\n",
       "    }\n",
       "</style>\n",
       "<table border=\"1\" class=\"dataframe\">\n",
       "  <thead>\n",
       "    <tr style=\"text-align: right;\">\n",
       "      <th></th>\n",
       "      <th>Name</th>\n",
       "      <th>Age</th>\n",
       "      <th>Gender</th>\n",
       "      <th>Blood Type</th>\n",
       "      <th>Medical Condition</th>\n",
       "      <th>Date of Admission</th>\n",
       "      <th>Doctor</th>\n",
       "      <th>Hospital</th>\n",
       "      <th>Insurance Provider</th>\n",
       "      <th>Billing Amount</th>\n",
       "      <th>Room Number</th>\n",
       "      <th>Admission Type</th>\n",
       "      <th>Discharge Date</th>\n",
       "      <th>Medication</th>\n",
       "      <th>Test Results</th>\n",
       "    </tr>\n",
       "  </thead>\n",
       "  <tbody>\n",
       "    <tr>\n",
       "      <th>0</th>\n",
       "      <td>Bobby JacksOn</td>\n",
       "      <td>30</td>\n",
       "      <td>Male</td>\n",
       "      <td>B-</td>\n",
       "      <td>Cancer</td>\n",
       "      <td>2024-01-31</td>\n",
       "      <td>Matthew Smith</td>\n",
       "      <td>Sons and Miller</td>\n",
       "      <td>Blue Cross</td>\n",
       "      <td>18856.281306</td>\n",
       "      <td>328</td>\n",
       "      <td>Urgent</td>\n",
       "      <td>2024-02-02</td>\n",
       "      <td>Paracetamol</td>\n",
       "      <td>Normal</td>\n",
       "    </tr>\n",
       "    <tr>\n",
       "      <th>1</th>\n",
       "      <td>LesLie TErRy</td>\n",
       "      <td>62</td>\n",
       "      <td>Male</td>\n",
       "      <td>A+</td>\n",
       "      <td>Obesity</td>\n",
       "      <td>2019-08-20</td>\n",
       "      <td>Samantha Davies</td>\n",
       "      <td>Kim Inc</td>\n",
       "      <td>Medicare</td>\n",
       "      <td>33643.327287</td>\n",
       "      <td>265</td>\n",
       "      <td>Emergency</td>\n",
       "      <td>2019-08-26</td>\n",
       "      <td>Ibuprofen</td>\n",
       "      <td>Inconclusive</td>\n",
       "    </tr>\n",
       "    <tr>\n",
       "      <th>2</th>\n",
       "      <td>DaNnY sMitH</td>\n",
       "      <td>76</td>\n",
       "      <td>Female</td>\n",
       "      <td>A-</td>\n",
       "      <td>Obesity</td>\n",
       "      <td>2022-09-22</td>\n",
       "      <td>Tiffany Mitchell</td>\n",
       "      <td>Cook PLC</td>\n",
       "      <td>Aetna</td>\n",
       "      <td>27955.096079</td>\n",
       "      <td>205</td>\n",
       "      <td>Emergency</td>\n",
       "      <td>2022-10-07</td>\n",
       "      <td>Aspirin</td>\n",
       "      <td>Normal</td>\n",
       "    </tr>\n",
       "    <tr>\n",
       "      <th>3</th>\n",
       "      <td>andrEw waTtS</td>\n",
       "      <td>28</td>\n",
       "      <td>Female</td>\n",
       "      <td>O+</td>\n",
       "      <td>Diabetes</td>\n",
       "      <td>2020-11-18</td>\n",
       "      <td>Kevin Wells</td>\n",
       "      <td>Hernandez Rogers and Vang,</td>\n",
       "      <td>Medicare</td>\n",
       "      <td>37909.782410</td>\n",
       "      <td>450</td>\n",
       "      <td>Elective</td>\n",
       "      <td>2020-12-18</td>\n",
       "      <td>Ibuprofen</td>\n",
       "      <td>Abnormal</td>\n",
       "    </tr>\n",
       "    <tr>\n",
       "      <th>4</th>\n",
       "      <td>adrIENNE bEll</td>\n",
       "      <td>43</td>\n",
       "      <td>Female</td>\n",
       "      <td>AB+</td>\n",
       "      <td>Cancer</td>\n",
       "      <td>2022-09-19</td>\n",
       "      <td>Kathleen Hanna</td>\n",
       "      <td>White-White</td>\n",
       "      <td>Aetna</td>\n",
       "      <td>14238.317814</td>\n",
       "      <td>458</td>\n",
       "      <td>Urgent</td>\n",
       "      <td>2022-10-09</td>\n",
       "      <td>Penicillin</td>\n",
       "      <td>Abnormal</td>\n",
       "    </tr>\n",
       "    <tr>\n",
       "      <th>5</th>\n",
       "      <td>EMILY JOHNSOn</td>\n",
       "      <td>36</td>\n",
       "      <td>Male</td>\n",
       "      <td>A+</td>\n",
       "      <td>Asthma</td>\n",
       "      <td>2023-12-20</td>\n",
       "      <td>Taylor Newton</td>\n",
       "      <td>Nunez-Humphrey</td>\n",
       "      <td>UnitedHealthcare</td>\n",
       "      <td>48145.110951</td>\n",
       "      <td>389</td>\n",
       "      <td>Urgent</td>\n",
       "      <td>2023-12-24</td>\n",
       "      <td>Ibuprofen</td>\n",
       "      <td>Normal</td>\n",
       "    </tr>\n",
       "    <tr>\n",
       "      <th>6</th>\n",
       "      <td>edwArD EDWaRDs</td>\n",
       "      <td>21</td>\n",
       "      <td>Female</td>\n",
       "      <td>AB-</td>\n",
       "      <td>Diabetes</td>\n",
       "      <td>2020-11-03</td>\n",
       "      <td>Kelly Olson</td>\n",
       "      <td>Group Middleton</td>\n",
       "      <td>Medicare</td>\n",
       "      <td>19580.872345</td>\n",
       "      <td>389</td>\n",
       "      <td>Emergency</td>\n",
       "      <td>2020-11-15</td>\n",
       "      <td>Paracetamol</td>\n",
       "      <td>Inconclusive</td>\n",
       "    </tr>\n",
       "    <tr>\n",
       "      <th>7</th>\n",
       "      <td>CHrisTInA MARtinez</td>\n",
       "      <td>20</td>\n",
       "      <td>Female</td>\n",
       "      <td>A+</td>\n",
       "      <td>Cancer</td>\n",
       "      <td>2021-12-28</td>\n",
       "      <td>Suzanne Thomas</td>\n",
       "      <td>Powell Robinson and Valdez,</td>\n",
       "      <td>Cigna</td>\n",
       "      <td>45820.462722</td>\n",
       "      <td>277</td>\n",
       "      <td>Emergency</td>\n",
       "      <td>2022-01-07</td>\n",
       "      <td>Paracetamol</td>\n",
       "      <td>Inconclusive</td>\n",
       "    </tr>\n",
       "    <tr>\n",
       "      <th>8</th>\n",
       "      <td>JASmINe aGuIlaR</td>\n",
       "      <td>82</td>\n",
       "      <td>Male</td>\n",
       "      <td>AB+</td>\n",
       "      <td>Asthma</td>\n",
       "      <td>2020-07-01</td>\n",
       "      <td>Daniel Ferguson</td>\n",
       "      <td>Sons Rich and</td>\n",
       "      <td>Cigna</td>\n",
       "      <td>50119.222792</td>\n",
       "      <td>316</td>\n",
       "      <td>Elective</td>\n",
       "      <td>2020-07-14</td>\n",
       "      <td>Aspirin</td>\n",
       "      <td>Abnormal</td>\n",
       "    </tr>\n",
       "    <tr>\n",
       "      <th>9</th>\n",
       "      <td>ChRISTopher BerG</td>\n",
       "      <td>58</td>\n",
       "      <td>Female</td>\n",
       "      <td>AB-</td>\n",
       "      <td>Cancer</td>\n",
       "      <td>2021-05-23</td>\n",
       "      <td>Heather Day</td>\n",
       "      <td>Padilla-Walker</td>\n",
       "      <td>UnitedHealthcare</td>\n",
       "      <td>19784.631062</td>\n",
       "      <td>249</td>\n",
       "      <td>Elective</td>\n",
       "      <td>2021-06-22</td>\n",
       "      <td>Paracetamol</td>\n",
       "      <td>Inconclusive</td>\n",
       "    </tr>\n",
       "  </tbody>\n",
       "</table>\n",
       "</div>"
      ],
      "text/plain": [
       "                 Name  Age  Gender Blood Type Medical Condition  \\\n",
       "0       Bobby JacksOn   30    Male         B-            Cancer   \n",
       "1        LesLie TErRy   62    Male         A+           Obesity   \n",
       "2         DaNnY sMitH   76  Female         A-           Obesity   \n",
       "3        andrEw waTtS   28  Female         O+          Diabetes   \n",
       "4       adrIENNE bEll   43  Female        AB+            Cancer   \n",
       "5       EMILY JOHNSOn   36    Male         A+            Asthma   \n",
       "6      edwArD EDWaRDs   21  Female        AB-          Diabetes   \n",
       "7  CHrisTInA MARtinez   20  Female         A+            Cancer   \n",
       "8     JASmINe aGuIlaR   82    Male        AB+            Asthma   \n",
       "9    ChRISTopher BerG   58  Female        AB-            Cancer   \n",
       "\n",
       "  Date of Admission            Doctor                     Hospital  \\\n",
       "0        2024-01-31     Matthew Smith              Sons and Miller   \n",
       "1        2019-08-20   Samantha Davies                      Kim Inc   \n",
       "2        2022-09-22  Tiffany Mitchell                     Cook PLC   \n",
       "3        2020-11-18       Kevin Wells   Hernandez Rogers and Vang,   \n",
       "4        2022-09-19    Kathleen Hanna                  White-White   \n",
       "5        2023-12-20     Taylor Newton               Nunez-Humphrey   \n",
       "6        2020-11-03       Kelly Olson              Group Middleton   \n",
       "7        2021-12-28    Suzanne Thomas  Powell Robinson and Valdez,   \n",
       "8        2020-07-01   Daniel Ferguson                Sons Rich and   \n",
       "9        2021-05-23       Heather Day               Padilla-Walker   \n",
       "\n",
       "  Insurance Provider  Billing Amount  Room Number Admission Type  \\\n",
       "0         Blue Cross    18856.281306          328         Urgent   \n",
       "1           Medicare    33643.327287          265      Emergency   \n",
       "2              Aetna    27955.096079          205      Emergency   \n",
       "3           Medicare    37909.782410          450       Elective   \n",
       "4              Aetna    14238.317814          458         Urgent   \n",
       "5   UnitedHealthcare    48145.110951          389         Urgent   \n",
       "6           Medicare    19580.872345          389      Emergency   \n",
       "7              Cigna    45820.462722          277      Emergency   \n",
       "8              Cigna    50119.222792          316       Elective   \n",
       "9   UnitedHealthcare    19784.631062          249       Elective   \n",
       "\n",
       "  Discharge Date   Medication  Test Results  \n",
       "0     2024-02-02  Paracetamol        Normal  \n",
       "1     2019-08-26    Ibuprofen  Inconclusive  \n",
       "2     2022-10-07      Aspirin        Normal  \n",
       "3     2020-12-18    Ibuprofen      Abnormal  \n",
       "4     2022-10-09   Penicillin      Abnormal  \n",
       "5     2023-12-24    Ibuprofen        Normal  \n",
       "6     2020-11-15  Paracetamol  Inconclusive  \n",
       "7     2022-01-07  Paracetamol  Inconclusive  \n",
       "8     2020-07-14      Aspirin      Abnormal  \n",
       "9     2021-06-22  Paracetamol  Inconclusive  "
      ]
     },
     "execution_count": 8,
     "metadata": {},
     "output_type": "execute_result"
    }
   ],
   "source": [
    "hc_df.head(10)"
   ]
  },
  {
   "cell_type": "code",
   "execution_count": 9,
   "id": "b2b6e13c",
   "metadata": {},
   "outputs": [],
   "source": [
    "hc_df['Date of Admission'] = pd.to_datetime(hc_df['Date of Admission'])\n",
    "hc_df['Discharge Date'] = pd.to_datetime(hc_df['Discharge Date'])"
   ]
  },
  {
   "cell_type": "code",
   "execution_count": 10,
   "id": "19d00248",
   "metadata": {},
   "outputs": [
    {
     "name": "stdout",
     "output_type": "stream",
     "text": [
      "<class 'pandas.core.frame.DataFrame'>\n",
      "RangeIndex: 55500 entries, 0 to 55499\n",
      "Data columns (total 15 columns):\n",
      " #   Column              Non-Null Count  Dtype         \n",
      "---  ------              --------------  -----         \n",
      " 0   Name                55500 non-null  object        \n",
      " 1   Age                 55500 non-null  int64         \n",
      " 2   Gender              55500 non-null  object        \n",
      " 3   Blood Type          55500 non-null  object        \n",
      " 4   Medical Condition   55500 non-null  object        \n",
      " 5   Date of Admission   55500 non-null  datetime64[ns]\n",
      " 6   Doctor              55500 non-null  object        \n",
      " 7   Hospital            55500 non-null  object        \n",
      " 8   Insurance Provider  55500 non-null  object        \n",
      " 9   Billing Amount      55500 non-null  float64       \n",
      " 10  Room Number         55500 non-null  int64         \n",
      " 11  Admission Type      55500 non-null  object        \n",
      " 12  Discharge Date      55500 non-null  datetime64[ns]\n",
      " 13  Medication          55500 non-null  object        \n",
      " 14  Test Results        55500 non-null  object        \n",
      "dtypes: datetime64[ns](2), float64(1), int64(2), object(10)\n",
      "memory usage: 6.4+ MB\n"
     ]
    }
   ],
   "source": [
    "hc_df.info()"
   ]
  },
  {
   "cell_type": "markdown",
   "id": "722ae71a",
   "metadata": {},
   "source": [
    "### Data Exploration"
   ]
  },
  {
   "cell_type": "code",
   "execution_count": 11,
   "id": "9376a1f6",
   "metadata": {},
   "outputs": [
    {
     "data": {
      "text/plain": [
       "Elective     18655\n",
       "Urgent       18576\n",
       "Emergency    18269\n",
       "Name: Admission Type, dtype: int64"
      ]
     },
     "execution_count": 11,
     "metadata": {},
     "output_type": "execute_result"
    }
   ],
   "source": [
    "hc_df['Admission Type'].value_counts()"
   ]
  },
  {
   "cell_type": "markdown",
   "id": "d0543e82",
   "metadata": {},
   "source": [
    "There are three categories of admission type. Class imbalance is not oberserved as each category has ~18k records.\n",
    "* Elective\n",
    "* Urgent\n",
    "* Emergency"
   ]
  },
  {
   "cell_type": "code",
   "execution_count": 12,
   "id": "7c2f9ff8",
   "metadata": {},
   "outputs": [
    {
     "data": {
      "text/plain": [
       "count    55500.000000\n",
       "mean        51.539459\n",
       "std         19.602454\n",
       "min         13.000000\n",
       "25%         35.000000\n",
       "50%         52.000000\n",
       "75%         68.000000\n",
       "max         89.000000\n",
       "Name: Age, dtype: float64"
      ]
     },
     "execution_count": 12,
     "metadata": {},
     "output_type": "execute_result"
    }
   ],
   "source": [
    "hc_df['Age'].describe(include='all')"
   ]
  },
  {
   "cell_type": "markdown",
   "id": "71d82d86",
   "metadata": {},
   "source": [
    "The Age of patients is ranging from 13 to 89 years. \n",
    "* Plot histogram and Box plot\n",
    "* Run statistical test for normal distribution"
   ]
  },
  {
   "cell_type": "code",
   "execution_count": null,
   "id": "7fb9c23f",
   "metadata": {},
   "outputs": [],
   "source": []
  },
  {
   "cell_type": "code",
   "execution_count": 13,
   "id": "71709c09",
   "metadata": {},
   "outputs": [
    {
     "data": {
      "text/plain": [
       "count    55500.000000\n",
       "mean     25539.316097\n",
       "std      14211.454431\n",
       "min      -2008.492140\n",
       "25%      13241.224652\n",
       "50%      25538.069376\n",
       "75%      37820.508436\n",
       "max      52764.276736\n",
       "Name: Billing Amount, dtype: float64"
      ]
     },
     "execution_count": 13,
     "metadata": {},
     "output_type": "execute_result"
    }
   ],
   "source": [
    "hc_df['Billing Amount'].describe(include='all')"
   ]
  },
  {
   "cell_type": "markdown",
   "id": "c81358a5",
   "metadata": {},
   "source": [
    "Assuming the amount to be in USD. On an average patients are billed $25,539. \n",
    "* Plot histogram for skewness check.\n",
    "* Check the -ve amount under minimum\n",
    "* Find the records with -ve billing amount"
   ]
  },
  {
   "cell_type": "code",
   "execution_count": 14,
   "id": "240ee152",
   "metadata": {},
   "outputs": [],
   "source": [
    "# import matplotlib.pyplot as plt\n",
    "\n",
    "# # frequencies\n",
    "# billing_amount = hc_df['Billing Amount']\n",
    "\n",
    "# # setting the ranges and no. of intervals\n",
    "# range = (-1000, 55000)\n",
    "# bins = 250\n",
    "\n",
    "# # plotting a histogram\n",
    "# plt.hist(billing_amount, bins, range, color = 'brown',\n",
    "#         histtype = 'bar', rwidth = 0.8)\n",
    "\n",
    "# # x-axis label\n",
    "# plt.xlabel('billing_amount')\n",
    "# # frequency label\n",
    "# plt.ylabel('No. of people')\n",
    "# # plot title\n",
    "# plt.title('billing_amount Histogram')\n",
    "\n",
    "# # function to show the plot\n",
    "# plt.show()"
   ]
  },
  {
   "cell_type": "code",
   "execution_count": 15,
   "id": "02c9e5eb",
   "metadata": {},
   "outputs": [
    {
     "data": {
      "text/plain": [
       "A-     6969\n",
       "A+     6956\n",
       "AB+    6947\n",
       "AB-    6945\n",
       "B+     6945\n",
       "B-     6944\n",
       "O+     6917\n",
       "O-     6877\n",
       "Name: Blood Type, dtype: int64"
      ]
     },
     "execution_count": 15,
     "metadata": {},
     "output_type": "execute_result"
    }
   ],
   "source": [
    "hc_df['Blood Type'].value_counts()"
   ]
  },
  {
   "cell_type": "markdown",
   "id": "0e77e3e3",
   "metadata": {},
   "source": [
    "There are eight categories of blood type. Class imbalance is not oberserved as each category has ~6k records.\n",
    "* A-,A+\n",
    "* B-,B+\n",
    "* AB-,AB+\n",
    "* O-,O+"
   ]
  },
  {
   "cell_type": "code",
   "execution_count": 16,
   "id": "96852418",
   "metadata": {},
   "outputs": [
    {
     "name": "stderr",
     "output_type": "stream",
     "text": [
      "/var/folders/z1/qyczzcsn20q235vpf9n6j17w0000gn/T/ipykernel_70237/1963798732.py:1: FutureWarning: Treating datetime data as categorical rather than numeric in `.describe` is deprecated and will be removed in a future version of pandas. Specify `datetime_is_numeric=True` to silence this warning and adopt the future behavior now.\n",
      "  hc_df['Date of Admission'].describe()\n"
     ]
    },
    {
     "data": {
      "text/plain": [
       "count                   55500\n",
       "unique                   1827\n",
       "top       2024-03-16 00:00:00\n",
       "freq                       50\n",
       "first     2019-05-08 00:00:00\n",
       "last      2024-05-07 00:00:00\n",
       "Name: Date of Admission, dtype: object"
      ]
     },
     "execution_count": 16,
     "metadata": {},
     "output_type": "execute_result"
    }
   ],
   "source": [
    "hc_df['Date of Admission'].describe()"
   ]
  },
  {
   "cell_type": "code",
   "execution_count": 17,
   "id": "fe42ebb6",
   "metadata": {},
   "outputs": [
    {
     "name": "stderr",
     "output_type": "stream",
     "text": [
      "/var/folders/z1/qyczzcsn20q235vpf9n6j17w0000gn/T/ipykernel_70237/2651826647.py:1: FutureWarning: Treating datetime data as categorical rather than numeric in `.describe` is deprecated and will be removed in a future version of pandas. Specify `datetime_is_numeric=True` to silence this warning and adopt the future behavior now.\n",
      "  hc_df['Discharge Date'].describe(include='all')\n"
     ]
    },
    {
     "data": {
      "text/plain": [
       "count                   55500\n",
       "unique                   1856\n",
       "top       2020-03-15 00:00:00\n",
       "freq                       53\n",
       "first     2019-05-09 00:00:00\n",
       "last      2024-06-06 00:00:00\n",
       "Name: Discharge Date, dtype: object"
      ]
     },
     "execution_count": 17,
     "metadata": {},
     "output_type": "execute_result"
    }
   ],
   "source": [
    "hc_df['Discharge Date'].describe(include='all')"
   ]
  },
  {
   "cell_type": "markdown",
   "id": "8003bb12",
   "metadata": {},
   "source": [
    "Patients data ranges from May 2019 to May 2024.\n",
    "* Time series analysis can be performed.\n",
    "* Trend in Admission dates must be observed along side other variables.\n",
    "* Time taken by patients from admission to discharge must be noted. "
   ]
  },
  {
   "cell_type": "code",
   "execution_count": 18,
   "id": "6c4deb4e",
   "metadata": {},
   "outputs": [
    {
     "data": {
      "text/plain": [
       "Michael Smith           27\n",
       "Robert Smith            22\n",
       "John Smith              22\n",
       "Michael Johnson         20\n",
       "James Smith             20\n",
       "                        ..\n",
       "Audrey Zimmerman DDS     1\n",
       "Justin Banks             1\n",
       "Joseph Williams Jr.      1\n",
       "Jason Franklin           1\n",
       "Jeffrey Moore            1\n",
       "Name: Doctor, Length: 40341, dtype: int64"
      ]
     },
     "execution_count": 18,
     "metadata": {},
     "output_type": "execute_result"
    }
   ],
   "source": [
    "hc_df['Doctor'].value_counts()"
   ]
  },
  {
   "cell_type": "code",
   "execution_count": 19,
   "id": "837a2f49",
   "metadata": {},
   "outputs": [
    {
     "data": {
      "text/plain": [
       "count             55500\n",
       "unique            40341\n",
       "top       Michael Smith\n",
       "freq                 27\n",
       "Name: Doctor, dtype: object"
      ]
     },
     "execution_count": 19,
     "metadata": {},
     "output_type": "execute_result"
    }
   ],
   "source": [
    "hc_df['Doctor'].describe(include='all')"
   ]
  },
  {
   "cell_type": "markdown",
   "id": "7f47d4e1",
   "metadata": {},
   "source": [
    "* Among all doctors Michael Smith has attended most patients followed by Robert Smith.\n",
    "* There are 40,341 unique doctors in this data.\n",
    "* Top 10 Doctors in the data, top 10 doctors who attended most patients by Hospital, Gender, Diseases and more can be studied furthur. "
   ]
  },
  {
   "cell_type": "code",
   "execution_count": 20,
   "id": "5881d82b",
   "metadata": {},
   "outputs": [
    {
     "data": {
      "text/plain": [
       "count     55500\n",
       "unique        2\n",
       "top        Male\n",
       "freq      27774\n",
       "Name: Gender, dtype: object"
      ]
     },
     "execution_count": 20,
     "metadata": {},
     "output_type": "execute_result"
    }
   ],
   "source": [
    "hc_df['Gender'].describe(include='all')"
   ]
  },
  {
   "cell_type": "code",
   "execution_count": 21,
   "id": "c283abbb",
   "metadata": {},
   "outputs": [
    {
     "data": {
      "text/plain": [
       "Male      27774\n",
       "Female    27726\n",
       "Name: Gender, dtype: int64"
      ]
     },
     "execution_count": 21,
     "metadata": {},
     "output_type": "execute_result"
    }
   ],
   "source": [
    "hc_df['Gender'].value_counts()"
   ]
  },
  {
   "cell_type": "markdown",
   "id": "ad09c8f8",
   "metadata": {},
   "source": [
    "There are 2 genders Male and Female.\n",
    "* Gender based studies can be sensitive.\n",
    "* In scope of diseases, hospital, medication, test results analysis will be performed for futher insights and trends."
   ]
  },
  {
   "cell_type": "code",
   "execution_count": 22,
   "id": "d8b35ae3",
   "metadata": {},
   "outputs": [
    {
     "data": {
      "text/plain": [
       "LLC Smith                      44\n",
       "Ltd Smith                      39\n",
       "Johnson PLC                    38\n",
       "Smith Ltd                      37\n",
       "Smith PLC                      36\n",
       "                               ..\n",
       "and Montoya Flores, Boyer       1\n",
       "Carter and Dunn King,           1\n",
       "Hall, Brown Black and           1\n",
       "Peterson Scott and Thomas,      1\n",
       "Moreno Murphy, Griffith and     1\n",
       "Name: Hospital, Length: 39876, dtype: int64"
      ]
     },
     "execution_count": 22,
     "metadata": {},
     "output_type": "execute_result"
    }
   ],
   "source": [
    "hc_df['Hospital'].value_counts()"
   ]
  },
  {
   "cell_type": "code",
   "execution_count": 23,
   "id": "5fe4dd8e",
   "metadata": {},
   "outputs": [
    {
     "data": {
      "text/plain": [
       "count         55500\n",
       "unique        39876\n",
       "top       LLC Smith\n",
       "freq             44\n",
       "Name: Hospital, dtype: object"
      ]
     },
     "execution_count": 23,
     "metadata": {},
     "output_type": "execute_result"
    }
   ],
   "source": [
    "hc_df['Hospital'].describe(include='all')"
   ]
  },
  {
   "cell_type": "markdown",
   "id": "0a71cb5d",
   "metadata": {},
   "source": [
    "There are 39,876 unique hospitals in this data. LLC Smith hospital is the most visited followed by Ltd Smith."
   ]
  },
  {
   "cell_type": "code",
   "execution_count": 24,
   "id": "236e71ea",
   "metadata": {},
   "outputs": [
    {
     "data": {
      "text/plain": [
       "Cigna               11249\n",
       "Medicare            11154\n",
       "UnitedHealthcare    11125\n",
       "Blue Cross          11059\n",
       "Aetna               10913\n",
       "Name: Insurance Provider, dtype: int64"
      ]
     },
     "execution_count": 24,
     "metadata": {},
     "output_type": "execute_result"
    }
   ],
   "source": [
    "hc_df['Insurance Provider'].value_counts()"
   ]
  },
  {
   "cell_type": "code",
   "execution_count": 25,
   "id": "6176b747",
   "metadata": {},
   "outputs": [
    {
     "data": {
      "text/plain": [
       "count     55500\n",
       "unique        5\n",
       "top       Cigna\n",
       "freq      11249\n",
       "Name: Insurance Provider, dtype: object"
      ]
     },
     "execution_count": 25,
     "metadata": {},
     "output_type": "execute_result"
    }
   ],
   "source": [
    "hc_df['Insurance Provider'].describe()"
   ]
  },
  {
   "cell_type": "markdown",
   "id": "a18612ab",
   "metadata": {},
   "source": [
    "Cigna is the top insurance provider among 5 other insurance providers. The 5 insurance providers are equally distributed with ~11k among all patients.\n",
    "* list the medical conditions.\n",
    "* list the insurance providers"
   ]
  },
  {
   "cell_type": "code",
   "execution_count": 26,
   "id": "2dd744ef",
   "metadata": {},
   "outputs": [
    {
     "data": {
      "text/plain": [
       "Arthritis       9308\n",
       "Diabetes        9304\n",
       "Hypertension    9245\n",
       "Obesity         9231\n",
       "Cancer          9227\n",
       "Asthma          9185\n",
       "Name: Medical Condition, dtype: int64"
      ]
     },
     "execution_count": 26,
     "metadata": {},
     "output_type": "execute_result"
    }
   ],
   "source": [
    "hc_df['Medical Condition'].value_counts()"
   ]
  },
  {
   "cell_type": "code",
   "execution_count": 27,
   "id": "49c716dd",
   "metadata": {},
   "outputs": [
    {
     "data": {
      "text/plain": [
       "count         55500\n",
       "unique            6\n",
       "top       Arthritis\n",
       "freq           9308\n",
       "Name: Medical Condition, dtype: object"
      ]
     },
     "execution_count": 27,
     "metadata": {},
     "output_type": "execute_result"
    }
   ],
   "source": [
    "hc_df['Medical Condition'].describe(include='all')"
   ]
  },
  {
   "cell_type": "markdown",
   "id": "f8369f76",
   "metadata": {},
   "source": [
    "Arthritis is the top Medical condition among 6 other medical conditiona. The 6 medical conditiona are equally distributed with ~9k among all patients.\n",
    "* list the medical conditions.\n",
    "* list the medical conditions"
   ]
  },
  {
   "cell_type": "code",
   "execution_count": 28,
   "id": "391f4121",
   "metadata": {},
   "outputs": [
    {
     "data": {
      "text/plain": [
       "Lipitor        11140\n",
       "Ibuprofen      11127\n",
       "Aspirin        11094\n",
       "Paracetamol    11071\n",
       "Penicillin     11068\n",
       "Name: Medication, dtype: int64"
      ]
     },
     "execution_count": 28,
     "metadata": {},
     "output_type": "execute_result"
    }
   ],
   "source": [
    "hc_df['Medication'].value_counts()"
   ]
  },
  {
   "cell_type": "code",
   "execution_count": 29,
   "id": "22c1508a",
   "metadata": {},
   "outputs": [
    {
     "data": {
      "text/plain": [
       "count       55500\n",
       "unique          5\n",
       "top       Lipitor\n",
       "freq        11140\n",
       "Name: Medication, dtype: object"
      ]
     },
     "execution_count": 29,
     "metadata": {},
     "output_type": "execute_result"
    }
   ],
   "source": [
    "hc_df['Medication'].describe()"
   ]
  },
  {
   "cell_type": "markdown",
   "id": "ff4c55da",
   "metadata": {},
   "source": [
    "Lipitor is the top Medication among 5 other medications. The 5 medications are equally distributed with ~11k among all patients.\n",
    "* list the medical conditions"
   ]
  },
  {
   "cell_type": "code",
   "execution_count": 30,
   "id": "d792661f",
   "metadata": {},
   "outputs": [],
   "source": [
    "hc_df['Room Number'] = hc_df['Room Number'].astype(str)"
   ]
  },
  {
   "cell_type": "code",
   "execution_count": 31,
   "id": "1178d3c4",
   "metadata": {},
   "outputs": [
    {
     "data": {
      "text/plain": [
       "count     55500\n",
       "unique      400\n",
       "top         393\n",
       "freq        181\n",
       "Name: Room Number, dtype: object"
      ]
     },
     "execution_count": 31,
     "metadata": {},
     "output_type": "execute_result"
    }
   ],
   "source": [
    "hc_df['Room Number'].describe(include='all')"
   ]
  },
  {
   "cell_type": "code",
   "execution_count": 32,
   "id": "54c0f8d6",
   "metadata": {},
   "outputs": [
    {
     "data": {
      "text/plain": [
       "393    181\n",
       "491    177\n",
       "104    175\n",
       "420    175\n",
       "209    171\n",
       "      ... \n",
       "253    112\n",
       "254    111\n",
       "257    111\n",
       "381    110\n",
       "398    109\n",
       "Name: Room Number, Length: 400, dtype: int64"
      ]
     },
     "execution_count": 32,
     "metadata": {},
     "output_type": "execute_result"
    }
   ],
   "source": [
    "hc_df['Room Number'].value_counts()"
   ]
  },
  {
   "cell_type": "markdown",
   "id": "5326cd45",
   "metadata": {},
   "source": [
    "There are 400 rooms across all the hospitals in this dataset.\n",
    "Most used rooms are 393, 491, 104, 420 and 209.\n",
    "\n",
    "* plot a graph to see the distribution"
   ]
  },
  {
   "cell_type": "code",
   "execution_count": 33,
   "id": "f155578f",
   "metadata": {},
   "outputs": [
    {
     "data": {
      "text/plain": [
       "Abnormal        18627\n",
       "Normal          18517\n",
       "Inconclusive    18356\n",
       "Name: Test Results, dtype: int64"
      ]
     },
     "execution_count": 33,
     "metadata": {},
     "output_type": "execute_result"
    }
   ],
   "source": [
    "hc_df['Test Results'].value_counts()"
   ]
  },
  {
   "cell_type": "code",
   "execution_count": 34,
   "id": "3dcdd2dc",
   "metadata": {},
   "outputs": [
    {
     "data": {
      "text/plain": [
       "count        55500\n",
       "unique           3\n",
       "top       Abnormal\n",
       "freq         18627\n",
       "Name: Test Results, dtype: object"
      ]
     },
     "execution_count": 34,
     "metadata": {},
     "output_type": "execute_result"
    }
   ],
   "source": [
    "hc_df['Test Results'].describe()"
   ]
  },
  {
   "cell_type": "markdown",
   "id": "f617cfc9",
   "metadata": {},
   "source": [
    "There are 3 types of results Abnormal, Normal and Inconclusive."
   ]
  },
  {
   "cell_type": "code",
   "execution_count": 35,
   "id": "4a0a3924",
   "metadata": {},
   "outputs": [
    {
     "name": "stdout",
     "output_type": "stream",
     "text": [
      "<class 'pandas.core.frame.DataFrame'>\n",
      "RangeIndex: 55500 entries, 0 to 55499\n",
      "Data columns (total 15 columns):\n",
      " #   Column              Non-Null Count  Dtype         \n",
      "---  ------              --------------  -----         \n",
      " 0   Name                55500 non-null  object        \n",
      " 1   Age                 55500 non-null  int64         \n",
      " 2   Gender              55500 non-null  object        \n",
      " 3   Blood Type          55500 non-null  object        \n",
      " 4   Medical Condition   55500 non-null  object        \n",
      " 5   Date of Admission   55500 non-null  datetime64[ns]\n",
      " 6   Doctor              55500 non-null  object        \n",
      " 7   Hospital            55500 non-null  object        \n",
      " 8   Insurance Provider  55500 non-null  object        \n",
      " 9   Billing Amount      55500 non-null  float64       \n",
      " 10  Room Number         55500 non-null  object        \n",
      " 11  Admission Type      55500 non-null  object        \n",
      " 12  Discharge Date      55500 non-null  datetime64[ns]\n",
      " 13  Medication          55500 non-null  object        \n",
      " 14  Test Results        55500 non-null  object        \n",
      "dtypes: datetime64[ns](2), float64(1), int64(1), object(11)\n",
      "memory usage: 6.4+ MB\n"
     ]
    }
   ],
   "source": [
    "hc_df.info()"
   ]
  },
  {
   "cell_type": "markdown",
   "id": "dc4fbddc",
   "metadata": {},
   "source": [
    "### Analysis to gain further insights from the data."
   ]
  },
  {
   "cell_type": "markdown",
   "id": "8d430e1a",
   "metadata": {},
   "source": [
    "* Creation of additional variables."
   ]
  },
  {
   "cell_type": "code",
   "execution_count": 36,
   "id": "4cbcc2e9",
   "metadata": {},
   "outputs": [],
   "source": [
    "hc_df['Days in bed'] = hc_df['Discharge Date'] - hc_df['Date of Admission']"
   ]
  },
  {
   "cell_type": "code",
   "execution_count": 37,
   "id": "4de7dfe5",
   "metadata": {},
   "outputs": [
    {
     "data": {
      "text/plain": [
       "0    2 days\n",
       "1    6 days\n",
       "2   15 days\n",
       "3   30 days\n",
       "4   20 days\n",
       "5    4 days\n",
       "6   12 days\n",
       "7   10 days\n",
       "8   13 days\n",
       "9   30 days\n",
       "Name: Days in bed, dtype: timedelta64[ns]"
      ]
     },
     "execution_count": 37,
     "metadata": {},
     "output_type": "execute_result"
    }
   ],
   "source": [
    "hc_df['Days in bed'].head(10)"
   ]
  },
  {
   "cell_type": "code",
   "execution_count": 38,
   "id": "5374bb09",
   "metadata": {},
   "outputs": [],
   "source": [
    "hc_df['Days in bed'] = hc_df['Days in bed'].astype('timedelta64[D]').astype(np.int64)\n"
   ]
  },
  {
   "cell_type": "code",
   "execution_count": 39,
   "id": "42a4702d",
   "metadata": {},
   "outputs": [
    {
     "data": {
      "text/plain": [
       "21    1959\n",
       "14    1909\n",
       "20    1907\n",
       "6     1903\n",
       "11    1895\n",
       "19    1890\n",
       "7     1886\n",
       "27    1884\n",
       "30    1874\n",
       "9     1868\n",
       "29    1867\n",
       "23    1866\n",
       "25    1864\n",
       "13    1864\n",
       "4     1863\n",
       "28    1853\n",
       "2     1844\n",
       "12    1843\n",
       "3     1841\n",
       "5     1832\n",
       "8     1828\n",
       "26    1819\n",
       "18    1819\n",
       "17    1818\n",
       "1     1817\n",
       "10    1802\n",
       "15    1785\n",
       "22    1784\n",
       "24    1759\n",
       "16    1757\n",
       "Name: Days in bed, dtype: int64"
      ]
     },
     "execution_count": 39,
     "metadata": {},
     "output_type": "execute_result"
    }
   ],
   "source": [
    "hc_df['Days in bed'].value_counts(sort=True)"
   ]
  },
  {
   "cell_type": "code",
   "execution_count": 40,
   "id": "d371040e",
   "metadata": {},
   "outputs": [],
   "source": [
    "# import matplotlib.pyplot as plt\n",
    "\n",
    "# # frequencies\n",
    "# Days_in_bed = hc_df['Days in bed']\n",
    "\n",
    "# # setting the ranges and no. of intervals\n",
    "# range = (0, 35)\n",
    "# bins = 5\n",
    "\n",
    "# # plotting a histogram\n",
    "# plt.hist(Days_in_bed, bins, range, color = 'orange',\n",
    "#         histtype = 'bar', rwidth = 0.8)\n",
    "\n",
    "# # x-axis label\n",
    "# plt.xlabel('Days_in_bed')\n",
    "# # frequency label\n",
    "# plt.ylabel('No. of people')\n",
    "# # plot title\n",
    "# plt.title('Days_in_bed Histogram')\n",
    "\n",
    "# # function to show the plot\n",
    "# plt.show()"
   ]
  },
  {
   "cell_type": "code",
   "execution_count": 41,
   "id": "428df3e1",
   "metadata": {},
   "outputs": [
    {
     "name": "stdout",
     "output_type": "stream",
     "text": [
      "<class 'pandas.core.frame.DataFrame'>\n",
      "RangeIndex: 55500 entries, 0 to 55499\n",
      "Data columns (total 16 columns):\n",
      " #   Column              Non-Null Count  Dtype         \n",
      "---  ------              --------------  -----         \n",
      " 0   Name                55500 non-null  object        \n",
      " 1   Age                 55500 non-null  int64         \n",
      " 2   Gender              55500 non-null  object        \n",
      " 3   Blood Type          55500 non-null  object        \n",
      " 4   Medical Condition   55500 non-null  object        \n",
      " 5   Date of Admission   55500 non-null  datetime64[ns]\n",
      " 6   Doctor              55500 non-null  object        \n",
      " 7   Hospital            55500 non-null  object        \n",
      " 8   Insurance Provider  55500 non-null  object        \n",
      " 9   Billing Amount      55500 non-null  float64       \n",
      " 10  Room Number         55500 non-null  object        \n",
      " 11  Admission Type      55500 non-null  object        \n",
      " 12  Discharge Date      55500 non-null  datetime64[ns]\n",
      " 13  Medication          55500 non-null  object        \n",
      " 14  Test Results        55500 non-null  object        \n",
      " 15  Days in bed         55500 non-null  int64         \n",
      "dtypes: datetime64[ns](2), float64(1), int64(2), object(11)\n",
      "memory usage: 6.8+ MB\n"
     ]
    }
   ],
   "source": [
    "hc_df.info()"
   ]
  },
  {
   "cell_type": "code",
   "execution_count": 42,
   "id": "610fef15",
   "metadata": {},
   "outputs": [
    {
     "data": {
      "text/plain": [
       "count    55500.000000\n",
       "mean        51.539459\n",
       "std         19.602454\n",
       "min         13.000000\n",
       "25%         35.000000\n",
       "50%         52.000000\n",
       "75%         68.000000\n",
       "max         89.000000\n",
       "Name: Age, dtype: float64"
      ]
     },
     "execution_count": 42,
     "metadata": {},
     "output_type": "execute_result"
    }
   ],
   "source": [
    "hc_df['Age'].describe()"
   ]
  },
  {
   "cell_type": "code",
   "execution_count": 43,
   "id": "e3e723e8",
   "metadata": {},
   "outputs": [],
   "source": [
    "# import matplotlib.pyplot as plt\n",
    "\n",
    "# # frequencies\n",
    "# ages = hc_df['Age']\n",
    "\n",
    "# # setting the ranges and no. of intervals\n",
    "# range = (10, 89)\n",
    "# bins = 5 \n",
    "\n",
    "# # plotting a histogram\n",
    "# plt.hist(ages, bins, range, color = 'skyblue',\n",
    "#         histtype = 'bar', rwidth = 0.8)\n",
    "\n",
    "# # x-axis label\n",
    "# plt.xlabel('age')\n",
    "# # frequency label\n",
    "# plt.ylabel('No. of people')\n",
    "# # plot title\n",
    "# plt.title('Age Histogram')\n",
    "\n",
    "# # function to show the plot\n",
    "# plt.show()"
   ]
  },
  {
   "cell_type": "code",
   "execution_count": 44,
   "id": "ea0670f4",
   "metadata": {},
   "outputs": [],
   "source": [
    "import pandas as pd\n",
    "\n",
    "def create_age_buckets(df, age_column, bucket_column, bins, labels):\n",
    "    df[bucket_column] = pd.cut(df[age_column], bins=bins, labels=labels, right=False)\n",
    "    return df\n",
    "\n",
    "# Example usage\n",
    "bins = [0, 18, 30, 50, 120]\n",
    "labels = ['Child', 'Young Adult', 'Adult', 'Senior']\n",
    "\n",
    "hc_df = create_age_buckets(hc_df, 'Age', 'Age Group', bins, labels)"
   ]
  },
  {
   "cell_type": "code",
   "execution_count": 45,
   "id": "96952fad",
   "metadata": {},
   "outputs": [
    {
     "data": {
      "text/plain": [
       "Senior         29498\n",
       "Adult          16309\n",
       "Young Adult     9577\n",
       "Child            116\n",
       "Name: Age Group, dtype: int64"
      ]
     },
     "execution_count": 45,
     "metadata": {},
     "output_type": "execute_result"
    }
   ],
   "source": [
    "hc_df['Age Group'].value_counts()"
   ]
  },
  {
   "cell_type": "code",
   "execution_count": 46,
   "id": "28cdc1a5",
   "metadata": {},
   "outputs": [
    {
     "name": "stdout",
     "output_type": "stream",
     "text": [
      "<class 'pandas.core.frame.DataFrame'>\n",
      "RangeIndex: 55500 entries, 0 to 55499\n",
      "Data columns (total 17 columns):\n",
      " #   Column              Non-Null Count  Dtype         \n",
      "---  ------              --------------  -----         \n",
      " 0   Name                55500 non-null  object        \n",
      " 1   Age                 55500 non-null  int64         \n",
      " 2   Gender              55500 non-null  object        \n",
      " 3   Blood Type          55500 non-null  object        \n",
      " 4   Medical Condition   55500 non-null  object        \n",
      " 5   Date of Admission   55500 non-null  datetime64[ns]\n",
      " 6   Doctor              55500 non-null  object        \n",
      " 7   Hospital            55500 non-null  object        \n",
      " 8   Insurance Provider  55500 non-null  object        \n",
      " 9   Billing Amount      55500 non-null  float64       \n",
      " 10  Room Number         55500 non-null  object        \n",
      " 11  Admission Type      55500 non-null  object        \n",
      " 12  Discharge Date      55500 non-null  datetime64[ns]\n",
      " 13  Medication          55500 non-null  object        \n",
      " 14  Test Results        55500 non-null  object        \n",
      " 15  Days in bed         55500 non-null  int64         \n",
      " 16  Age Group           55500 non-null  category      \n",
      "dtypes: category(1), datetime64[ns](2), float64(1), int64(2), object(11)\n",
      "memory usage: 6.8+ MB\n"
     ]
    }
   ],
   "source": [
    "hc_df.info()"
   ]
  },
  {
   "cell_type": "markdown",
   "id": "12e0d102",
   "metadata": {},
   "source": [
    "### Scatter"
   ]
  },
  {
   "cell_type": "code",
   "execution_count": 47,
   "id": "35921bb1",
   "metadata": {},
   "outputs": [],
   "source": [
    "# import matplotlib.pyplot as plt\n",
    "\n",
    "# # x-axis values\n",
    "# x = hc_df['Days in bed']\n",
    "# # y-axis values\n",
    "# y = hc_df['Age']\n",
    "\n",
    "# # plotting points as a scatter plot\n",
    "# plt.scatter(x, y, label= \"stars\", color= \"green\", \n",
    "#             marker= \"*\", s=5)\n",
    "\n",
    "# # x-axis label\n",
    "# plt.xlabel('x - axis')\n",
    "# # frequency label\n",
    "# plt.ylabel('y - axis')\n",
    "# # plot title\n",
    "# plt.title('Age vs Days in bed')\n",
    "# # showing legend\n",
    "# plt.legend()\n",
    "\n",
    "# # function to show the plot\n",
    "# plt.show()"
   ]
  },
  {
   "cell_type": "markdown",
   "id": "63267d17",
   "metadata": {},
   "source": [
    "## Understanding Patient Health Profiles:"
   ]
  },
  {
   "cell_type": "markdown",
   "id": "4c2aa466",
   "metadata": {},
   "source": [
    "### Clusters based on Medical Condition, Age Group, Test Results, and Days in Bed: \n",
    "This could reveal groups of patients with similar health issues, severity, and recovery patterns. You might find clusters of patients with specific chronic diseases, post-operative recovery profiles, or those with similar abnormal test results.\n"
   ]
  },
  {
   "cell_type": "code",
   "execution_count": null,
   "id": "08ee6de6",
   "metadata": {},
   "outputs": [],
   "source": []
  },
  {
   "cell_type": "code",
   "execution_count": 48,
   "id": "bd479291",
   "metadata": {},
   "outputs": [],
   "source": [
    "import pandas as pd\n",
    "from sklearn.cluster import KMeans\n",
    "from sklearn.preprocessing import StandardScaler, OneHotEncoder\n",
    "from sklearn.compose import ColumnTransformer\n",
    "from sklearn.pipeline import Pipeline\n",
    "import numpy as np"
   ]
  },
  {
   "cell_type": "code",
   "execution_count": 49,
   "id": "0ab37585",
   "metadata": {},
   "outputs": [],
   "source": [
    "\n",
    "# Identify categorical and numerical features for clustering\n",
    "categorical_features = ['Medical Condition', 'Age Group', 'Test Results']\n",
    "numerical_features = ['Days in bed']\n",
    "\n",
    "# Create transformers for preprocessing\n",
    "numerical_transformer = StandardScaler()\n",
    "categorical_transformer = OneHotEncoder(handle_unknown='ignore')\n",
    "\n",
    "# Create a column transformer to apply different transformations to different columns\n",
    "preprocessor = ColumnTransformer(\n",
    "    transformers=[\n",
    "        ('num', numerical_transformer, numerical_features),\n",
    "        ('cat', categorical_transformer, categorical_features)])\n"
   ]
  },
  {
   "cell_type": "code",
   "execution_count": 50,
   "id": "96733f26",
   "metadata": {},
   "outputs": [
    {
     "data": {
      "text/html": [
       "<style>#sk-container-id-1 {\n",
       "  /* Definition of color scheme common for light and dark mode */\n",
       "  --sklearn-color-text: black;\n",
       "  --sklearn-color-line: gray;\n",
       "  /* Definition of color scheme for unfitted estimators */\n",
       "  --sklearn-color-unfitted-level-0: #fff5e6;\n",
       "  --sklearn-color-unfitted-level-1: #f6e4d2;\n",
       "  --sklearn-color-unfitted-level-2: #ffe0b3;\n",
       "  --sklearn-color-unfitted-level-3: chocolate;\n",
       "  /* Definition of color scheme for fitted estimators */\n",
       "  --sklearn-color-fitted-level-0: #f0f8ff;\n",
       "  --sklearn-color-fitted-level-1: #d4ebff;\n",
       "  --sklearn-color-fitted-level-2: #b3dbfd;\n",
       "  --sklearn-color-fitted-level-3: cornflowerblue;\n",
       "\n",
       "  /* Specific color for light theme */\n",
       "  --sklearn-color-text-on-default-background: var(--sg-text-color, var(--theme-code-foreground, var(--jp-content-font-color1, black)));\n",
       "  --sklearn-color-background: var(--sg-background-color, var(--theme-background, var(--jp-layout-color0, white)));\n",
       "  --sklearn-color-border-box: var(--sg-text-color, var(--theme-code-foreground, var(--jp-content-font-color1, black)));\n",
       "  --sklearn-color-icon: #696969;\n",
       "\n",
       "  @media (prefers-color-scheme: dark) {\n",
       "    /* Redefinition of color scheme for dark theme */\n",
       "    --sklearn-color-text-on-default-background: var(--sg-text-color, var(--theme-code-foreground, var(--jp-content-font-color1, white)));\n",
       "    --sklearn-color-background: var(--sg-background-color, var(--theme-background, var(--jp-layout-color0, #111)));\n",
       "    --sklearn-color-border-box: var(--sg-text-color, var(--theme-code-foreground, var(--jp-content-font-color1, white)));\n",
       "    --sklearn-color-icon: #878787;\n",
       "  }\n",
       "}\n",
       "\n",
       "#sk-container-id-1 {\n",
       "  color: var(--sklearn-color-text);\n",
       "}\n",
       "\n",
       "#sk-container-id-1 pre {\n",
       "  padding: 0;\n",
       "}\n",
       "\n",
       "#sk-container-id-1 input.sk-hidden--visually {\n",
       "  border: 0;\n",
       "  clip: rect(1px 1px 1px 1px);\n",
       "  clip: rect(1px, 1px, 1px, 1px);\n",
       "  height: 1px;\n",
       "  margin: -1px;\n",
       "  overflow: hidden;\n",
       "  padding: 0;\n",
       "  position: absolute;\n",
       "  width: 1px;\n",
       "}\n",
       "\n",
       "#sk-container-id-1 div.sk-dashed-wrapped {\n",
       "  border: 1px dashed var(--sklearn-color-line);\n",
       "  margin: 0 0.4em 0.5em 0.4em;\n",
       "  box-sizing: border-box;\n",
       "  padding-bottom: 0.4em;\n",
       "  background-color: var(--sklearn-color-background);\n",
       "}\n",
       "\n",
       "#sk-container-id-1 div.sk-container {\n",
       "  /* jupyter's `normalize.less` sets `[hidden] { display: none; }`\n",
       "     but bootstrap.min.css set `[hidden] { display: none !important; }`\n",
       "     so we also need the `!important` here to be able to override the\n",
       "     default hidden behavior on the sphinx rendered scikit-learn.org.\n",
       "     See: https://github.com/scikit-learn/scikit-learn/issues/21755 */\n",
       "  display: inline-block !important;\n",
       "  position: relative;\n",
       "}\n",
       "\n",
       "#sk-container-id-1 div.sk-text-repr-fallback {\n",
       "  display: none;\n",
       "}\n",
       "\n",
       "div.sk-parallel-item,\n",
       "div.sk-serial,\n",
       "div.sk-item {\n",
       "  /* draw centered vertical line to link estimators */\n",
       "  background-image: linear-gradient(var(--sklearn-color-text-on-default-background), var(--sklearn-color-text-on-default-background));\n",
       "  background-size: 2px 100%;\n",
       "  background-repeat: no-repeat;\n",
       "  background-position: center center;\n",
       "}\n",
       "\n",
       "/* Parallel-specific style estimator block */\n",
       "\n",
       "#sk-container-id-1 div.sk-parallel-item::after {\n",
       "  content: \"\";\n",
       "  width: 100%;\n",
       "  border-bottom: 2px solid var(--sklearn-color-text-on-default-background);\n",
       "  flex-grow: 1;\n",
       "}\n",
       "\n",
       "#sk-container-id-1 div.sk-parallel {\n",
       "  display: flex;\n",
       "  align-items: stretch;\n",
       "  justify-content: center;\n",
       "  background-color: var(--sklearn-color-background);\n",
       "  position: relative;\n",
       "}\n",
       "\n",
       "#sk-container-id-1 div.sk-parallel-item {\n",
       "  display: flex;\n",
       "  flex-direction: column;\n",
       "}\n",
       "\n",
       "#sk-container-id-1 div.sk-parallel-item:first-child::after {\n",
       "  align-self: flex-end;\n",
       "  width: 50%;\n",
       "}\n",
       "\n",
       "#sk-container-id-1 div.sk-parallel-item:last-child::after {\n",
       "  align-self: flex-start;\n",
       "  width: 50%;\n",
       "}\n",
       "\n",
       "#sk-container-id-1 div.sk-parallel-item:only-child::after {\n",
       "  width: 0;\n",
       "}\n",
       "\n",
       "/* Serial-specific style estimator block */\n",
       "\n",
       "#sk-container-id-1 div.sk-serial {\n",
       "  display: flex;\n",
       "  flex-direction: column;\n",
       "  align-items: center;\n",
       "  background-color: var(--sklearn-color-background);\n",
       "  padding-right: 1em;\n",
       "  padding-left: 1em;\n",
       "}\n",
       "\n",
       "\n",
       "/* Toggleable style: style used for estimator/Pipeline/ColumnTransformer box that is\n",
       "clickable and can be expanded/collapsed.\n",
       "- Pipeline and ColumnTransformer use this feature and define the default style\n",
       "- Estimators will overwrite some part of the style using the `sk-estimator` class\n",
       "*/\n",
       "\n",
       "/* Pipeline and ColumnTransformer style (default) */\n",
       "\n",
       "#sk-container-id-1 div.sk-toggleable {\n",
       "  /* Default theme specific background. It is overwritten whether we have a\n",
       "  specific estimator or a Pipeline/ColumnTransformer */\n",
       "  background-color: var(--sklearn-color-background);\n",
       "}\n",
       "\n",
       "/* Toggleable label */\n",
       "#sk-container-id-1 label.sk-toggleable__label {\n",
       "  cursor: pointer;\n",
       "  display: block;\n",
       "  width: 100%;\n",
       "  margin-bottom: 0;\n",
       "  padding: 0.5em;\n",
       "  box-sizing: border-box;\n",
       "  text-align: center;\n",
       "}\n",
       "\n",
       "#sk-container-id-1 label.sk-toggleable__label-arrow:before {\n",
       "  /* Arrow on the left of the label */\n",
       "  content: \"▸\";\n",
       "  float: left;\n",
       "  margin-right: 0.25em;\n",
       "  color: var(--sklearn-color-icon);\n",
       "}\n",
       "\n",
       "#sk-container-id-1 label.sk-toggleable__label-arrow:hover:before {\n",
       "  color: var(--sklearn-color-text);\n",
       "}\n",
       "\n",
       "/* Toggleable content - dropdown */\n",
       "\n",
       "#sk-container-id-1 div.sk-toggleable__content {\n",
       "  max-height: 0;\n",
       "  max-width: 0;\n",
       "  overflow: hidden;\n",
       "  text-align: left;\n",
       "  /* unfitted */\n",
       "  background-color: var(--sklearn-color-unfitted-level-0);\n",
       "}\n",
       "\n",
       "#sk-container-id-1 div.sk-toggleable__content.fitted {\n",
       "  /* fitted */\n",
       "  background-color: var(--sklearn-color-fitted-level-0);\n",
       "}\n",
       "\n",
       "#sk-container-id-1 div.sk-toggleable__content pre {\n",
       "  margin: 0.2em;\n",
       "  border-radius: 0.25em;\n",
       "  color: var(--sklearn-color-text);\n",
       "  /* unfitted */\n",
       "  background-color: var(--sklearn-color-unfitted-level-0);\n",
       "}\n",
       "\n",
       "#sk-container-id-1 div.sk-toggleable__content.fitted pre {\n",
       "  /* unfitted */\n",
       "  background-color: var(--sklearn-color-fitted-level-0);\n",
       "}\n",
       "\n",
       "#sk-container-id-1 input.sk-toggleable__control:checked~div.sk-toggleable__content {\n",
       "  /* Expand drop-down */\n",
       "  max-height: 200px;\n",
       "  max-width: 100%;\n",
       "  overflow: auto;\n",
       "}\n",
       "\n",
       "#sk-container-id-1 input.sk-toggleable__control:checked~label.sk-toggleable__label-arrow:before {\n",
       "  content: \"▾\";\n",
       "}\n",
       "\n",
       "/* Pipeline/ColumnTransformer-specific style */\n",
       "\n",
       "#sk-container-id-1 div.sk-label input.sk-toggleable__control:checked~label.sk-toggleable__label {\n",
       "  color: var(--sklearn-color-text);\n",
       "  background-color: var(--sklearn-color-unfitted-level-2);\n",
       "}\n",
       "\n",
       "#sk-container-id-1 div.sk-label.fitted input.sk-toggleable__control:checked~label.sk-toggleable__label {\n",
       "  background-color: var(--sklearn-color-fitted-level-2);\n",
       "}\n",
       "\n",
       "/* Estimator-specific style */\n",
       "\n",
       "/* Colorize estimator box */\n",
       "#sk-container-id-1 div.sk-estimator input.sk-toggleable__control:checked~label.sk-toggleable__label {\n",
       "  /* unfitted */\n",
       "  background-color: var(--sklearn-color-unfitted-level-2);\n",
       "}\n",
       "\n",
       "#sk-container-id-1 div.sk-estimator.fitted input.sk-toggleable__control:checked~label.sk-toggleable__label {\n",
       "  /* fitted */\n",
       "  background-color: var(--sklearn-color-fitted-level-2);\n",
       "}\n",
       "\n",
       "#sk-container-id-1 div.sk-label label.sk-toggleable__label,\n",
       "#sk-container-id-1 div.sk-label label {\n",
       "  /* The background is the default theme color */\n",
       "  color: var(--sklearn-color-text-on-default-background);\n",
       "}\n",
       "\n",
       "/* On hover, darken the color of the background */\n",
       "#sk-container-id-1 div.sk-label:hover label.sk-toggleable__label {\n",
       "  color: var(--sklearn-color-text);\n",
       "  background-color: var(--sklearn-color-unfitted-level-2);\n",
       "}\n",
       "\n",
       "/* Label box, darken color on hover, fitted */\n",
       "#sk-container-id-1 div.sk-label.fitted:hover label.sk-toggleable__label.fitted {\n",
       "  color: var(--sklearn-color-text);\n",
       "  background-color: var(--sklearn-color-fitted-level-2);\n",
       "}\n",
       "\n",
       "/* Estimator label */\n",
       "\n",
       "#sk-container-id-1 div.sk-label label {\n",
       "  font-family: monospace;\n",
       "  font-weight: bold;\n",
       "  display: inline-block;\n",
       "  line-height: 1.2em;\n",
       "}\n",
       "\n",
       "#sk-container-id-1 div.sk-label-container {\n",
       "  text-align: center;\n",
       "}\n",
       "\n",
       "/* Estimator-specific */\n",
       "#sk-container-id-1 div.sk-estimator {\n",
       "  font-family: monospace;\n",
       "  border: 1px dotted var(--sklearn-color-border-box);\n",
       "  border-radius: 0.25em;\n",
       "  box-sizing: border-box;\n",
       "  margin-bottom: 0.5em;\n",
       "  /* unfitted */\n",
       "  background-color: var(--sklearn-color-unfitted-level-0);\n",
       "}\n",
       "\n",
       "#sk-container-id-1 div.sk-estimator.fitted {\n",
       "  /* fitted */\n",
       "  background-color: var(--sklearn-color-fitted-level-0);\n",
       "}\n",
       "\n",
       "/* on hover */\n",
       "#sk-container-id-1 div.sk-estimator:hover {\n",
       "  /* unfitted */\n",
       "  background-color: var(--sklearn-color-unfitted-level-2);\n",
       "}\n",
       "\n",
       "#sk-container-id-1 div.sk-estimator.fitted:hover {\n",
       "  /* fitted */\n",
       "  background-color: var(--sklearn-color-fitted-level-2);\n",
       "}\n",
       "\n",
       "/* Specification for estimator info (e.g. \"i\" and \"?\") */\n",
       "\n",
       "/* Common style for \"i\" and \"?\" */\n",
       "\n",
       ".sk-estimator-doc-link,\n",
       "a:link.sk-estimator-doc-link,\n",
       "a:visited.sk-estimator-doc-link {\n",
       "  float: right;\n",
       "  font-size: smaller;\n",
       "  line-height: 1em;\n",
       "  font-family: monospace;\n",
       "  background-color: var(--sklearn-color-background);\n",
       "  border-radius: 1em;\n",
       "  height: 1em;\n",
       "  width: 1em;\n",
       "  text-decoration: none !important;\n",
       "  margin-left: 1ex;\n",
       "  /* unfitted */\n",
       "  border: var(--sklearn-color-unfitted-level-1) 1pt solid;\n",
       "  color: var(--sklearn-color-unfitted-level-1);\n",
       "}\n",
       "\n",
       ".sk-estimator-doc-link.fitted,\n",
       "a:link.sk-estimator-doc-link.fitted,\n",
       "a:visited.sk-estimator-doc-link.fitted {\n",
       "  /* fitted */\n",
       "  border: var(--sklearn-color-fitted-level-1) 1pt solid;\n",
       "  color: var(--sklearn-color-fitted-level-1);\n",
       "}\n",
       "\n",
       "/* On hover */\n",
       "div.sk-estimator:hover .sk-estimator-doc-link:hover,\n",
       ".sk-estimator-doc-link:hover,\n",
       "div.sk-label-container:hover .sk-estimator-doc-link:hover,\n",
       ".sk-estimator-doc-link:hover {\n",
       "  /* unfitted */\n",
       "  background-color: var(--sklearn-color-unfitted-level-3);\n",
       "  color: var(--sklearn-color-background);\n",
       "  text-decoration: none;\n",
       "}\n",
       "\n",
       "div.sk-estimator.fitted:hover .sk-estimator-doc-link.fitted:hover,\n",
       ".sk-estimator-doc-link.fitted:hover,\n",
       "div.sk-label-container:hover .sk-estimator-doc-link.fitted:hover,\n",
       ".sk-estimator-doc-link.fitted:hover {\n",
       "  /* fitted */\n",
       "  background-color: var(--sklearn-color-fitted-level-3);\n",
       "  color: var(--sklearn-color-background);\n",
       "  text-decoration: none;\n",
       "}\n",
       "\n",
       "/* Span, style for the box shown on hovering the info icon */\n",
       ".sk-estimator-doc-link span {\n",
       "  display: none;\n",
       "  z-index: 9999;\n",
       "  position: relative;\n",
       "  font-weight: normal;\n",
       "  right: .2ex;\n",
       "  padding: .5ex;\n",
       "  margin: .5ex;\n",
       "  width: min-content;\n",
       "  min-width: 20ex;\n",
       "  max-width: 50ex;\n",
       "  color: var(--sklearn-color-text);\n",
       "  box-shadow: 2pt 2pt 4pt #999;\n",
       "  /* unfitted */\n",
       "  background: var(--sklearn-color-unfitted-level-0);\n",
       "  border: .5pt solid var(--sklearn-color-unfitted-level-3);\n",
       "}\n",
       "\n",
       ".sk-estimator-doc-link.fitted span {\n",
       "  /* fitted */\n",
       "  background: var(--sklearn-color-fitted-level-0);\n",
       "  border: var(--sklearn-color-fitted-level-3);\n",
       "}\n",
       "\n",
       ".sk-estimator-doc-link:hover span {\n",
       "  display: block;\n",
       "}\n",
       "\n",
       "/* \"?\"-specific style due to the `<a>` HTML tag */\n",
       "\n",
       "#sk-container-id-1 a.estimator_doc_link {\n",
       "  float: right;\n",
       "  font-size: 1rem;\n",
       "  line-height: 1em;\n",
       "  font-family: monospace;\n",
       "  background-color: var(--sklearn-color-background);\n",
       "  border-radius: 1rem;\n",
       "  height: 1rem;\n",
       "  width: 1rem;\n",
       "  text-decoration: none;\n",
       "  /* unfitted */\n",
       "  color: var(--sklearn-color-unfitted-level-1);\n",
       "  border: var(--sklearn-color-unfitted-level-1) 1pt solid;\n",
       "}\n",
       "\n",
       "#sk-container-id-1 a.estimator_doc_link.fitted {\n",
       "  /* fitted */\n",
       "  border: var(--sklearn-color-fitted-level-1) 1pt solid;\n",
       "  color: var(--sklearn-color-fitted-level-1);\n",
       "}\n",
       "\n",
       "/* On hover */\n",
       "#sk-container-id-1 a.estimator_doc_link:hover {\n",
       "  /* unfitted */\n",
       "  background-color: var(--sklearn-color-unfitted-level-3);\n",
       "  color: var(--sklearn-color-background);\n",
       "  text-decoration: none;\n",
       "}\n",
       "\n",
       "#sk-container-id-1 a.estimator_doc_link.fitted:hover {\n",
       "  /* fitted */\n",
       "  background-color: var(--sklearn-color-fitted-level-3);\n",
       "}\n",
       "</style><div id=\"sk-container-id-1\" class=\"sk-top-container\"><div class=\"sk-text-repr-fallback\"><pre>OneHotEncoder(handle_unknown=&#x27;ignore&#x27;)</pre><b>In a Jupyter environment, please rerun this cell to show the HTML representation or trust the notebook. <br />On GitHub, the HTML representation is unable to render, please try loading this page with nbviewer.org.</b></div><div class=\"sk-container\" hidden><div class=\"sk-item\"><div class=\"sk-estimator  sk-toggleable\"><input class=\"sk-toggleable__control sk-hidden--visually\" id=\"sk-estimator-id-1\" type=\"checkbox\" checked><label for=\"sk-estimator-id-1\" class=\"sk-toggleable__label  sk-toggleable__label-arrow \">&nbsp;&nbsp;OneHotEncoder<a class=\"sk-estimator-doc-link \" rel=\"noreferrer\" target=\"_blank\" href=\"https://scikit-learn.org/1.4/modules/generated/sklearn.preprocessing.OneHotEncoder.html\">?<span>Documentation for OneHotEncoder</span></a><span class=\"sk-estimator-doc-link \">i<span>Not fitted</span></span></label><div class=\"sk-toggleable__content \"><pre>OneHotEncoder(handle_unknown=&#x27;ignore&#x27;)</pre></div> </div></div></div></div>"
      ],
      "text/plain": [
       "OneHotEncoder(handle_unknown='ignore')"
      ]
     },
     "execution_count": 50,
     "metadata": {},
     "output_type": "execute_result"
    }
   ],
   "source": [
    "categorical_transformer"
   ]
  },
  {
   "cell_type": "code",
   "execution_count": 51,
   "id": "6e0bfbdd",
   "metadata": {},
   "outputs": [
    {
     "data": {
      "text/html": [
       "<style>#sk-container-id-2 {\n",
       "  /* Definition of color scheme common for light and dark mode */\n",
       "  --sklearn-color-text: black;\n",
       "  --sklearn-color-line: gray;\n",
       "  /* Definition of color scheme for unfitted estimators */\n",
       "  --sklearn-color-unfitted-level-0: #fff5e6;\n",
       "  --sklearn-color-unfitted-level-1: #f6e4d2;\n",
       "  --sklearn-color-unfitted-level-2: #ffe0b3;\n",
       "  --sklearn-color-unfitted-level-3: chocolate;\n",
       "  /* Definition of color scheme for fitted estimators */\n",
       "  --sklearn-color-fitted-level-0: #f0f8ff;\n",
       "  --sklearn-color-fitted-level-1: #d4ebff;\n",
       "  --sklearn-color-fitted-level-2: #b3dbfd;\n",
       "  --sklearn-color-fitted-level-3: cornflowerblue;\n",
       "\n",
       "  /* Specific color for light theme */\n",
       "  --sklearn-color-text-on-default-background: var(--sg-text-color, var(--theme-code-foreground, var(--jp-content-font-color1, black)));\n",
       "  --sklearn-color-background: var(--sg-background-color, var(--theme-background, var(--jp-layout-color0, white)));\n",
       "  --sklearn-color-border-box: var(--sg-text-color, var(--theme-code-foreground, var(--jp-content-font-color1, black)));\n",
       "  --sklearn-color-icon: #696969;\n",
       "\n",
       "  @media (prefers-color-scheme: dark) {\n",
       "    /* Redefinition of color scheme for dark theme */\n",
       "    --sklearn-color-text-on-default-background: var(--sg-text-color, var(--theme-code-foreground, var(--jp-content-font-color1, white)));\n",
       "    --sklearn-color-background: var(--sg-background-color, var(--theme-background, var(--jp-layout-color0, #111)));\n",
       "    --sklearn-color-border-box: var(--sg-text-color, var(--theme-code-foreground, var(--jp-content-font-color1, white)));\n",
       "    --sklearn-color-icon: #878787;\n",
       "  }\n",
       "}\n",
       "\n",
       "#sk-container-id-2 {\n",
       "  color: var(--sklearn-color-text);\n",
       "}\n",
       "\n",
       "#sk-container-id-2 pre {\n",
       "  padding: 0;\n",
       "}\n",
       "\n",
       "#sk-container-id-2 input.sk-hidden--visually {\n",
       "  border: 0;\n",
       "  clip: rect(1px 1px 1px 1px);\n",
       "  clip: rect(1px, 1px, 1px, 1px);\n",
       "  height: 1px;\n",
       "  margin: -1px;\n",
       "  overflow: hidden;\n",
       "  padding: 0;\n",
       "  position: absolute;\n",
       "  width: 1px;\n",
       "}\n",
       "\n",
       "#sk-container-id-2 div.sk-dashed-wrapped {\n",
       "  border: 1px dashed var(--sklearn-color-line);\n",
       "  margin: 0 0.4em 0.5em 0.4em;\n",
       "  box-sizing: border-box;\n",
       "  padding-bottom: 0.4em;\n",
       "  background-color: var(--sklearn-color-background);\n",
       "}\n",
       "\n",
       "#sk-container-id-2 div.sk-container {\n",
       "  /* jupyter's `normalize.less` sets `[hidden] { display: none; }`\n",
       "     but bootstrap.min.css set `[hidden] { display: none !important; }`\n",
       "     so we also need the `!important` here to be able to override the\n",
       "     default hidden behavior on the sphinx rendered scikit-learn.org.\n",
       "     See: https://github.com/scikit-learn/scikit-learn/issues/21755 */\n",
       "  display: inline-block !important;\n",
       "  position: relative;\n",
       "}\n",
       "\n",
       "#sk-container-id-2 div.sk-text-repr-fallback {\n",
       "  display: none;\n",
       "}\n",
       "\n",
       "div.sk-parallel-item,\n",
       "div.sk-serial,\n",
       "div.sk-item {\n",
       "  /* draw centered vertical line to link estimators */\n",
       "  background-image: linear-gradient(var(--sklearn-color-text-on-default-background), var(--sklearn-color-text-on-default-background));\n",
       "  background-size: 2px 100%;\n",
       "  background-repeat: no-repeat;\n",
       "  background-position: center center;\n",
       "}\n",
       "\n",
       "/* Parallel-specific style estimator block */\n",
       "\n",
       "#sk-container-id-2 div.sk-parallel-item::after {\n",
       "  content: \"\";\n",
       "  width: 100%;\n",
       "  border-bottom: 2px solid var(--sklearn-color-text-on-default-background);\n",
       "  flex-grow: 1;\n",
       "}\n",
       "\n",
       "#sk-container-id-2 div.sk-parallel {\n",
       "  display: flex;\n",
       "  align-items: stretch;\n",
       "  justify-content: center;\n",
       "  background-color: var(--sklearn-color-background);\n",
       "  position: relative;\n",
       "}\n",
       "\n",
       "#sk-container-id-2 div.sk-parallel-item {\n",
       "  display: flex;\n",
       "  flex-direction: column;\n",
       "}\n",
       "\n",
       "#sk-container-id-2 div.sk-parallel-item:first-child::after {\n",
       "  align-self: flex-end;\n",
       "  width: 50%;\n",
       "}\n",
       "\n",
       "#sk-container-id-2 div.sk-parallel-item:last-child::after {\n",
       "  align-self: flex-start;\n",
       "  width: 50%;\n",
       "}\n",
       "\n",
       "#sk-container-id-2 div.sk-parallel-item:only-child::after {\n",
       "  width: 0;\n",
       "}\n",
       "\n",
       "/* Serial-specific style estimator block */\n",
       "\n",
       "#sk-container-id-2 div.sk-serial {\n",
       "  display: flex;\n",
       "  flex-direction: column;\n",
       "  align-items: center;\n",
       "  background-color: var(--sklearn-color-background);\n",
       "  padding-right: 1em;\n",
       "  padding-left: 1em;\n",
       "}\n",
       "\n",
       "\n",
       "/* Toggleable style: style used for estimator/Pipeline/ColumnTransformer box that is\n",
       "clickable and can be expanded/collapsed.\n",
       "- Pipeline and ColumnTransformer use this feature and define the default style\n",
       "- Estimators will overwrite some part of the style using the `sk-estimator` class\n",
       "*/\n",
       "\n",
       "/* Pipeline and ColumnTransformer style (default) */\n",
       "\n",
       "#sk-container-id-2 div.sk-toggleable {\n",
       "  /* Default theme specific background. It is overwritten whether we have a\n",
       "  specific estimator or a Pipeline/ColumnTransformer */\n",
       "  background-color: var(--sklearn-color-background);\n",
       "}\n",
       "\n",
       "/* Toggleable label */\n",
       "#sk-container-id-2 label.sk-toggleable__label {\n",
       "  cursor: pointer;\n",
       "  display: block;\n",
       "  width: 100%;\n",
       "  margin-bottom: 0;\n",
       "  padding: 0.5em;\n",
       "  box-sizing: border-box;\n",
       "  text-align: center;\n",
       "}\n",
       "\n",
       "#sk-container-id-2 label.sk-toggleable__label-arrow:before {\n",
       "  /* Arrow on the left of the label */\n",
       "  content: \"▸\";\n",
       "  float: left;\n",
       "  margin-right: 0.25em;\n",
       "  color: var(--sklearn-color-icon);\n",
       "}\n",
       "\n",
       "#sk-container-id-2 label.sk-toggleable__label-arrow:hover:before {\n",
       "  color: var(--sklearn-color-text);\n",
       "}\n",
       "\n",
       "/* Toggleable content - dropdown */\n",
       "\n",
       "#sk-container-id-2 div.sk-toggleable__content {\n",
       "  max-height: 0;\n",
       "  max-width: 0;\n",
       "  overflow: hidden;\n",
       "  text-align: left;\n",
       "  /* unfitted */\n",
       "  background-color: var(--sklearn-color-unfitted-level-0);\n",
       "}\n",
       "\n",
       "#sk-container-id-2 div.sk-toggleable__content.fitted {\n",
       "  /* fitted */\n",
       "  background-color: var(--sklearn-color-fitted-level-0);\n",
       "}\n",
       "\n",
       "#sk-container-id-2 div.sk-toggleable__content pre {\n",
       "  margin: 0.2em;\n",
       "  border-radius: 0.25em;\n",
       "  color: var(--sklearn-color-text);\n",
       "  /* unfitted */\n",
       "  background-color: var(--sklearn-color-unfitted-level-0);\n",
       "}\n",
       "\n",
       "#sk-container-id-2 div.sk-toggleable__content.fitted pre {\n",
       "  /* unfitted */\n",
       "  background-color: var(--sklearn-color-fitted-level-0);\n",
       "}\n",
       "\n",
       "#sk-container-id-2 input.sk-toggleable__control:checked~div.sk-toggleable__content {\n",
       "  /* Expand drop-down */\n",
       "  max-height: 200px;\n",
       "  max-width: 100%;\n",
       "  overflow: auto;\n",
       "}\n",
       "\n",
       "#sk-container-id-2 input.sk-toggleable__control:checked~label.sk-toggleable__label-arrow:before {\n",
       "  content: \"▾\";\n",
       "}\n",
       "\n",
       "/* Pipeline/ColumnTransformer-specific style */\n",
       "\n",
       "#sk-container-id-2 div.sk-label input.sk-toggleable__control:checked~label.sk-toggleable__label {\n",
       "  color: var(--sklearn-color-text);\n",
       "  background-color: var(--sklearn-color-unfitted-level-2);\n",
       "}\n",
       "\n",
       "#sk-container-id-2 div.sk-label.fitted input.sk-toggleable__control:checked~label.sk-toggleable__label {\n",
       "  background-color: var(--sklearn-color-fitted-level-2);\n",
       "}\n",
       "\n",
       "/* Estimator-specific style */\n",
       "\n",
       "/* Colorize estimator box */\n",
       "#sk-container-id-2 div.sk-estimator input.sk-toggleable__control:checked~label.sk-toggleable__label {\n",
       "  /* unfitted */\n",
       "  background-color: var(--sklearn-color-unfitted-level-2);\n",
       "}\n",
       "\n",
       "#sk-container-id-2 div.sk-estimator.fitted input.sk-toggleable__control:checked~label.sk-toggleable__label {\n",
       "  /* fitted */\n",
       "  background-color: var(--sklearn-color-fitted-level-2);\n",
       "}\n",
       "\n",
       "#sk-container-id-2 div.sk-label label.sk-toggleable__label,\n",
       "#sk-container-id-2 div.sk-label label {\n",
       "  /* The background is the default theme color */\n",
       "  color: var(--sklearn-color-text-on-default-background);\n",
       "}\n",
       "\n",
       "/* On hover, darken the color of the background */\n",
       "#sk-container-id-2 div.sk-label:hover label.sk-toggleable__label {\n",
       "  color: var(--sklearn-color-text);\n",
       "  background-color: var(--sklearn-color-unfitted-level-2);\n",
       "}\n",
       "\n",
       "/* Label box, darken color on hover, fitted */\n",
       "#sk-container-id-2 div.sk-label.fitted:hover label.sk-toggleable__label.fitted {\n",
       "  color: var(--sklearn-color-text);\n",
       "  background-color: var(--sklearn-color-fitted-level-2);\n",
       "}\n",
       "\n",
       "/* Estimator label */\n",
       "\n",
       "#sk-container-id-2 div.sk-label label {\n",
       "  font-family: monospace;\n",
       "  font-weight: bold;\n",
       "  display: inline-block;\n",
       "  line-height: 1.2em;\n",
       "}\n",
       "\n",
       "#sk-container-id-2 div.sk-label-container {\n",
       "  text-align: center;\n",
       "}\n",
       "\n",
       "/* Estimator-specific */\n",
       "#sk-container-id-2 div.sk-estimator {\n",
       "  font-family: monospace;\n",
       "  border: 1px dotted var(--sklearn-color-border-box);\n",
       "  border-radius: 0.25em;\n",
       "  box-sizing: border-box;\n",
       "  margin-bottom: 0.5em;\n",
       "  /* unfitted */\n",
       "  background-color: var(--sklearn-color-unfitted-level-0);\n",
       "}\n",
       "\n",
       "#sk-container-id-2 div.sk-estimator.fitted {\n",
       "  /* fitted */\n",
       "  background-color: var(--sklearn-color-fitted-level-0);\n",
       "}\n",
       "\n",
       "/* on hover */\n",
       "#sk-container-id-2 div.sk-estimator:hover {\n",
       "  /* unfitted */\n",
       "  background-color: var(--sklearn-color-unfitted-level-2);\n",
       "}\n",
       "\n",
       "#sk-container-id-2 div.sk-estimator.fitted:hover {\n",
       "  /* fitted */\n",
       "  background-color: var(--sklearn-color-fitted-level-2);\n",
       "}\n",
       "\n",
       "/* Specification for estimator info (e.g. \"i\" and \"?\") */\n",
       "\n",
       "/* Common style for \"i\" and \"?\" */\n",
       "\n",
       ".sk-estimator-doc-link,\n",
       "a:link.sk-estimator-doc-link,\n",
       "a:visited.sk-estimator-doc-link {\n",
       "  float: right;\n",
       "  font-size: smaller;\n",
       "  line-height: 1em;\n",
       "  font-family: monospace;\n",
       "  background-color: var(--sklearn-color-background);\n",
       "  border-radius: 1em;\n",
       "  height: 1em;\n",
       "  width: 1em;\n",
       "  text-decoration: none !important;\n",
       "  margin-left: 1ex;\n",
       "  /* unfitted */\n",
       "  border: var(--sklearn-color-unfitted-level-1) 1pt solid;\n",
       "  color: var(--sklearn-color-unfitted-level-1);\n",
       "}\n",
       "\n",
       ".sk-estimator-doc-link.fitted,\n",
       "a:link.sk-estimator-doc-link.fitted,\n",
       "a:visited.sk-estimator-doc-link.fitted {\n",
       "  /* fitted */\n",
       "  border: var(--sklearn-color-fitted-level-1) 1pt solid;\n",
       "  color: var(--sklearn-color-fitted-level-1);\n",
       "}\n",
       "\n",
       "/* On hover */\n",
       "div.sk-estimator:hover .sk-estimator-doc-link:hover,\n",
       ".sk-estimator-doc-link:hover,\n",
       "div.sk-label-container:hover .sk-estimator-doc-link:hover,\n",
       ".sk-estimator-doc-link:hover {\n",
       "  /* unfitted */\n",
       "  background-color: var(--sklearn-color-unfitted-level-3);\n",
       "  color: var(--sklearn-color-background);\n",
       "  text-decoration: none;\n",
       "}\n",
       "\n",
       "div.sk-estimator.fitted:hover .sk-estimator-doc-link.fitted:hover,\n",
       ".sk-estimator-doc-link.fitted:hover,\n",
       "div.sk-label-container:hover .sk-estimator-doc-link.fitted:hover,\n",
       ".sk-estimator-doc-link.fitted:hover {\n",
       "  /* fitted */\n",
       "  background-color: var(--sklearn-color-fitted-level-3);\n",
       "  color: var(--sklearn-color-background);\n",
       "  text-decoration: none;\n",
       "}\n",
       "\n",
       "/* Span, style for the box shown on hovering the info icon */\n",
       ".sk-estimator-doc-link span {\n",
       "  display: none;\n",
       "  z-index: 9999;\n",
       "  position: relative;\n",
       "  font-weight: normal;\n",
       "  right: .2ex;\n",
       "  padding: .5ex;\n",
       "  margin: .5ex;\n",
       "  width: min-content;\n",
       "  min-width: 20ex;\n",
       "  max-width: 50ex;\n",
       "  color: var(--sklearn-color-text);\n",
       "  box-shadow: 2pt 2pt 4pt #999;\n",
       "  /* unfitted */\n",
       "  background: var(--sklearn-color-unfitted-level-0);\n",
       "  border: .5pt solid var(--sklearn-color-unfitted-level-3);\n",
       "}\n",
       "\n",
       ".sk-estimator-doc-link.fitted span {\n",
       "  /* fitted */\n",
       "  background: var(--sklearn-color-fitted-level-0);\n",
       "  border: var(--sklearn-color-fitted-level-3);\n",
       "}\n",
       "\n",
       ".sk-estimator-doc-link:hover span {\n",
       "  display: block;\n",
       "}\n",
       "\n",
       "/* \"?\"-specific style due to the `<a>` HTML tag */\n",
       "\n",
       "#sk-container-id-2 a.estimator_doc_link {\n",
       "  float: right;\n",
       "  font-size: 1rem;\n",
       "  line-height: 1em;\n",
       "  font-family: monospace;\n",
       "  background-color: var(--sklearn-color-background);\n",
       "  border-radius: 1rem;\n",
       "  height: 1rem;\n",
       "  width: 1rem;\n",
       "  text-decoration: none;\n",
       "  /* unfitted */\n",
       "  color: var(--sklearn-color-unfitted-level-1);\n",
       "  border: var(--sklearn-color-unfitted-level-1) 1pt solid;\n",
       "}\n",
       "\n",
       "#sk-container-id-2 a.estimator_doc_link.fitted {\n",
       "  /* fitted */\n",
       "  border: var(--sklearn-color-fitted-level-1) 1pt solid;\n",
       "  color: var(--sklearn-color-fitted-level-1);\n",
       "}\n",
       "\n",
       "/* On hover */\n",
       "#sk-container-id-2 a.estimator_doc_link:hover {\n",
       "  /* unfitted */\n",
       "  background-color: var(--sklearn-color-unfitted-level-3);\n",
       "  color: var(--sklearn-color-background);\n",
       "  text-decoration: none;\n",
       "}\n",
       "\n",
       "#sk-container-id-2 a.estimator_doc_link.fitted:hover {\n",
       "  /* fitted */\n",
       "  background-color: var(--sklearn-color-fitted-level-3);\n",
       "}\n",
       "</style><div id=\"sk-container-id-2\" class=\"sk-top-container\"><div class=\"sk-text-repr-fallback\"><pre>ColumnTransformer(transformers=[(&#x27;num&#x27;, StandardScaler(), [&#x27;Days in bed&#x27;]),\n",
       "                                (&#x27;cat&#x27;, OneHotEncoder(handle_unknown=&#x27;ignore&#x27;),\n",
       "                                 [&#x27;Medical Condition&#x27;, &#x27;Age Group&#x27;,\n",
       "                                  &#x27;Test Results&#x27;])])</pre><b>In a Jupyter environment, please rerun this cell to show the HTML representation or trust the notebook. <br />On GitHub, the HTML representation is unable to render, please try loading this page with nbviewer.org.</b></div><div class=\"sk-container\" hidden><div class=\"sk-item sk-dashed-wrapped\"><div class=\"sk-label-container\"><div class=\"sk-label  sk-toggleable\"><input class=\"sk-toggleable__control sk-hidden--visually\" id=\"sk-estimator-id-2\" type=\"checkbox\" ><label for=\"sk-estimator-id-2\" class=\"sk-toggleable__label  sk-toggleable__label-arrow \">&nbsp;&nbsp;ColumnTransformer<a class=\"sk-estimator-doc-link \" rel=\"noreferrer\" target=\"_blank\" href=\"https://scikit-learn.org/1.4/modules/generated/sklearn.compose.ColumnTransformer.html\">?<span>Documentation for ColumnTransformer</span></a><span class=\"sk-estimator-doc-link \">i<span>Not fitted</span></span></label><div class=\"sk-toggleable__content \"><pre>ColumnTransformer(transformers=[(&#x27;num&#x27;, StandardScaler(), [&#x27;Days in bed&#x27;]),\n",
       "                                (&#x27;cat&#x27;, OneHotEncoder(handle_unknown=&#x27;ignore&#x27;),\n",
       "                                 [&#x27;Medical Condition&#x27;, &#x27;Age Group&#x27;,\n",
       "                                  &#x27;Test Results&#x27;])])</pre></div> </div></div><div class=\"sk-parallel\"><div class=\"sk-parallel-item\"><div class=\"sk-item\"><div class=\"sk-label-container\"><div class=\"sk-label  sk-toggleable\"><input class=\"sk-toggleable__control sk-hidden--visually\" id=\"sk-estimator-id-3\" type=\"checkbox\" ><label for=\"sk-estimator-id-3\" class=\"sk-toggleable__label  sk-toggleable__label-arrow \">num</label><div class=\"sk-toggleable__content \"><pre>[&#x27;Days in bed&#x27;]</pre></div> </div></div><div class=\"sk-serial\"><div class=\"sk-item\"><div class=\"sk-estimator  sk-toggleable\"><input class=\"sk-toggleable__control sk-hidden--visually\" id=\"sk-estimator-id-4\" type=\"checkbox\" ><label for=\"sk-estimator-id-4\" class=\"sk-toggleable__label  sk-toggleable__label-arrow \">&nbsp;StandardScaler<a class=\"sk-estimator-doc-link \" rel=\"noreferrer\" target=\"_blank\" href=\"https://scikit-learn.org/1.4/modules/generated/sklearn.preprocessing.StandardScaler.html\">?<span>Documentation for StandardScaler</span></a></label><div class=\"sk-toggleable__content \"><pre>StandardScaler()</pre></div> </div></div></div></div></div><div class=\"sk-parallel-item\"><div class=\"sk-item\"><div class=\"sk-label-container\"><div class=\"sk-label  sk-toggleable\"><input class=\"sk-toggleable__control sk-hidden--visually\" id=\"sk-estimator-id-5\" type=\"checkbox\" ><label for=\"sk-estimator-id-5\" class=\"sk-toggleable__label  sk-toggleable__label-arrow \">cat</label><div class=\"sk-toggleable__content \"><pre>[&#x27;Medical Condition&#x27;, &#x27;Age Group&#x27;, &#x27;Test Results&#x27;]</pre></div> </div></div><div class=\"sk-serial\"><div class=\"sk-item\"><div class=\"sk-estimator  sk-toggleable\"><input class=\"sk-toggleable__control sk-hidden--visually\" id=\"sk-estimator-id-6\" type=\"checkbox\" ><label for=\"sk-estimator-id-6\" class=\"sk-toggleable__label  sk-toggleable__label-arrow \">&nbsp;OneHotEncoder<a class=\"sk-estimator-doc-link \" rel=\"noreferrer\" target=\"_blank\" href=\"https://scikit-learn.org/1.4/modules/generated/sklearn.preprocessing.OneHotEncoder.html\">?<span>Documentation for OneHotEncoder</span></a></label><div class=\"sk-toggleable__content \"><pre>OneHotEncoder(handle_unknown=&#x27;ignore&#x27;)</pre></div> </div></div></div></div></div></div></div></div></div>"
      ],
      "text/plain": [
       "ColumnTransformer(transformers=[('num', StandardScaler(), ['Days in bed']),\n",
       "                                ('cat', OneHotEncoder(handle_unknown='ignore'),\n",
       "                                 ['Medical Condition', 'Age Group',\n",
       "                                  'Test Results'])])"
      ]
     },
     "execution_count": 51,
     "metadata": {},
     "output_type": "execute_result"
    }
   ],
   "source": [
    "preprocessor"
   ]
  },
  {
   "cell_type": "code",
   "execution_count": 67,
   "id": "3824e567",
   "metadata": {},
   "outputs": [
    {
     "data": {
      "text/html": [
       "<style>#sk-container-id-6 {\n",
       "  /* Definition of color scheme common for light and dark mode */\n",
       "  --sklearn-color-text: black;\n",
       "  --sklearn-color-line: gray;\n",
       "  /* Definition of color scheme for unfitted estimators */\n",
       "  --sklearn-color-unfitted-level-0: #fff5e6;\n",
       "  --sklearn-color-unfitted-level-1: #f6e4d2;\n",
       "  --sklearn-color-unfitted-level-2: #ffe0b3;\n",
       "  --sklearn-color-unfitted-level-3: chocolate;\n",
       "  /* Definition of color scheme for fitted estimators */\n",
       "  --sklearn-color-fitted-level-0: #f0f8ff;\n",
       "  --sklearn-color-fitted-level-1: #d4ebff;\n",
       "  --sklearn-color-fitted-level-2: #b3dbfd;\n",
       "  --sklearn-color-fitted-level-3: cornflowerblue;\n",
       "\n",
       "  /* Specific color for light theme */\n",
       "  --sklearn-color-text-on-default-background: var(--sg-text-color, var(--theme-code-foreground, var(--jp-content-font-color1, black)));\n",
       "  --sklearn-color-background: var(--sg-background-color, var(--theme-background, var(--jp-layout-color0, white)));\n",
       "  --sklearn-color-border-box: var(--sg-text-color, var(--theme-code-foreground, var(--jp-content-font-color1, black)));\n",
       "  --sklearn-color-icon: #696969;\n",
       "\n",
       "  @media (prefers-color-scheme: dark) {\n",
       "    /* Redefinition of color scheme for dark theme */\n",
       "    --sklearn-color-text-on-default-background: var(--sg-text-color, var(--theme-code-foreground, var(--jp-content-font-color1, white)));\n",
       "    --sklearn-color-background: var(--sg-background-color, var(--theme-background, var(--jp-layout-color0, #111)));\n",
       "    --sklearn-color-border-box: var(--sg-text-color, var(--theme-code-foreground, var(--jp-content-font-color1, white)));\n",
       "    --sklearn-color-icon: #878787;\n",
       "  }\n",
       "}\n",
       "\n",
       "#sk-container-id-6 {\n",
       "  color: var(--sklearn-color-text);\n",
       "}\n",
       "\n",
       "#sk-container-id-6 pre {\n",
       "  padding: 0;\n",
       "}\n",
       "\n",
       "#sk-container-id-6 input.sk-hidden--visually {\n",
       "  border: 0;\n",
       "  clip: rect(1px 1px 1px 1px);\n",
       "  clip: rect(1px, 1px, 1px, 1px);\n",
       "  height: 1px;\n",
       "  margin: -1px;\n",
       "  overflow: hidden;\n",
       "  padding: 0;\n",
       "  position: absolute;\n",
       "  width: 1px;\n",
       "}\n",
       "\n",
       "#sk-container-id-6 div.sk-dashed-wrapped {\n",
       "  border: 1px dashed var(--sklearn-color-line);\n",
       "  margin: 0 0.4em 0.5em 0.4em;\n",
       "  box-sizing: border-box;\n",
       "  padding-bottom: 0.4em;\n",
       "  background-color: var(--sklearn-color-background);\n",
       "}\n",
       "\n",
       "#sk-container-id-6 div.sk-container {\n",
       "  /* jupyter's `normalize.less` sets `[hidden] { display: none; }`\n",
       "     but bootstrap.min.css set `[hidden] { display: none !important; }`\n",
       "     so we also need the `!important` here to be able to override the\n",
       "     default hidden behavior on the sphinx rendered scikit-learn.org.\n",
       "     See: https://github.com/scikit-learn/scikit-learn/issues/21755 */\n",
       "  display: inline-block !important;\n",
       "  position: relative;\n",
       "}\n",
       "\n",
       "#sk-container-id-6 div.sk-text-repr-fallback {\n",
       "  display: none;\n",
       "}\n",
       "\n",
       "div.sk-parallel-item,\n",
       "div.sk-serial,\n",
       "div.sk-item {\n",
       "  /* draw centered vertical line to link estimators */\n",
       "  background-image: linear-gradient(var(--sklearn-color-text-on-default-background), var(--sklearn-color-text-on-default-background));\n",
       "  background-size: 2px 100%;\n",
       "  background-repeat: no-repeat;\n",
       "  background-position: center center;\n",
       "}\n",
       "\n",
       "/* Parallel-specific style estimator block */\n",
       "\n",
       "#sk-container-id-6 div.sk-parallel-item::after {\n",
       "  content: \"\";\n",
       "  width: 100%;\n",
       "  border-bottom: 2px solid var(--sklearn-color-text-on-default-background);\n",
       "  flex-grow: 1;\n",
       "}\n",
       "\n",
       "#sk-container-id-6 div.sk-parallel {\n",
       "  display: flex;\n",
       "  align-items: stretch;\n",
       "  justify-content: center;\n",
       "  background-color: var(--sklearn-color-background);\n",
       "  position: relative;\n",
       "}\n",
       "\n",
       "#sk-container-id-6 div.sk-parallel-item {\n",
       "  display: flex;\n",
       "  flex-direction: column;\n",
       "}\n",
       "\n",
       "#sk-container-id-6 div.sk-parallel-item:first-child::after {\n",
       "  align-self: flex-end;\n",
       "  width: 50%;\n",
       "}\n",
       "\n",
       "#sk-container-id-6 div.sk-parallel-item:last-child::after {\n",
       "  align-self: flex-start;\n",
       "  width: 50%;\n",
       "}\n",
       "\n",
       "#sk-container-id-6 div.sk-parallel-item:only-child::after {\n",
       "  width: 0;\n",
       "}\n",
       "\n",
       "/* Serial-specific style estimator block */\n",
       "\n",
       "#sk-container-id-6 div.sk-serial {\n",
       "  display: flex;\n",
       "  flex-direction: column;\n",
       "  align-items: center;\n",
       "  background-color: var(--sklearn-color-background);\n",
       "  padding-right: 1em;\n",
       "  padding-left: 1em;\n",
       "}\n",
       "\n",
       "\n",
       "/* Toggleable style: style used for estimator/Pipeline/ColumnTransformer box that is\n",
       "clickable and can be expanded/collapsed.\n",
       "- Pipeline and ColumnTransformer use this feature and define the default style\n",
       "- Estimators will overwrite some part of the style using the `sk-estimator` class\n",
       "*/\n",
       "\n",
       "/* Pipeline and ColumnTransformer style (default) */\n",
       "\n",
       "#sk-container-id-6 div.sk-toggleable {\n",
       "  /* Default theme specific background. It is overwritten whether we have a\n",
       "  specific estimator or a Pipeline/ColumnTransformer */\n",
       "  background-color: var(--sklearn-color-background);\n",
       "}\n",
       "\n",
       "/* Toggleable label */\n",
       "#sk-container-id-6 label.sk-toggleable__label {\n",
       "  cursor: pointer;\n",
       "  display: block;\n",
       "  width: 100%;\n",
       "  margin-bottom: 0;\n",
       "  padding: 0.5em;\n",
       "  box-sizing: border-box;\n",
       "  text-align: center;\n",
       "}\n",
       "\n",
       "#sk-container-id-6 label.sk-toggleable__label-arrow:before {\n",
       "  /* Arrow on the left of the label */\n",
       "  content: \"▸\";\n",
       "  float: left;\n",
       "  margin-right: 0.25em;\n",
       "  color: var(--sklearn-color-icon);\n",
       "}\n",
       "\n",
       "#sk-container-id-6 label.sk-toggleable__label-arrow:hover:before {\n",
       "  color: var(--sklearn-color-text);\n",
       "}\n",
       "\n",
       "/* Toggleable content - dropdown */\n",
       "\n",
       "#sk-container-id-6 div.sk-toggleable__content {\n",
       "  max-height: 0;\n",
       "  max-width: 0;\n",
       "  overflow: hidden;\n",
       "  text-align: left;\n",
       "  /* unfitted */\n",
       "  background-color: var(--sklearn-color-unfitted-level-0);\n",
       "}\n",
       "\n",
       "#sk-container-id-6 div.sk-toggleable__content.fitted {\n",
       "  /* fitted */\n",
       "  background-color: var(--sklearn-color-fitted-level-0);\n",
       "}\n",
       "\n",
       "#sk-container-id-6 div.sk-toggleable__content pre {\n",
       "  margin: 0.2em;\n",
       "  border-radius: 0.25em;\n",
       "  color: var(--sklearn-color-text);\n",
       "  /* unfitted */\n",
       "  background-color: var(--sklearn-color-unfitted-level-0);\n",
       "}\n",
       "\n",
       "#sk-container-id-6 div.sk-toggleable__content.fitted pre {\n",
       "  /* unfitted */\n",
       "  background-color: var(--sklearn-color-fitted-level-0);\n",
       "}\n",
       "\n",
       "#sk-container-id-6 input.sk-toggleable__control:checked~div.sk-toggleable__content {\n",
       "  /* Expand drop-down */\n",
       "  max-height: 200px;\n",
       "  max-width: 100%;\n",
       "  overflow: auto;\n",
       "}\n",
       "\n",
       "#sk-container-id-6 input.sk-toggleable__control:checked~label.sk-toggleable__label-arrow:before {\n",
       "  content: \"▾\";\n",
       "}\n",
       "\n",
       "/* Pipeline/ColumnTransformer-specific style */\n",
       "\n",
       "#sk-container-id-6 div.sk-label input.sk-toggleable__control:checked~label.sk-toggleable__label {\n",
       "  color: var(--sklearn-color-text);\n",
       "  background-color: var(--sklearn-color-unfitted-level-2);\n",
       "}\n",
       "\n",
       "#sk-container-id-6 div.sk-label.fitted input.sk-toggleable__control:checked~label.sk-toggleable__label {\n",
       "  background-color: var(--sklearn-color-fitted-level-2);\n",
       "}\n",
       "\n",
       "/* Estimator-specific style */\n",
       "\n",
       "/* Colorize estimator box */\n",
       "#sk-container-id-6 div.sk-estimator input.sk-toggleable__control:checked~label.sk-toggleable__label {\n",
       "  /* unfitted */\n",
       "  background-color: var(--sklearn-color-unfitted-level-2);\n",
       "}\n",
       "\n",
       "#sk-container-id-6 div.sk-estimator.fitted input.sk-toggleable__control:checked~label.sk-toggleable__label {\n",
       "  /* fitted */\n",
       "  background-color: var(--sklearn-color-fitted-level-2);\n",
       "}\n",
       "\n",
       "#sk-container-id-6 div.sk-label label.sk-toggleable__label,\n",
       "#sk-container-id-6 div.sk-label label {\n",
       "  /* The background is the default theme color */\n",
       "  color: var(--sklearn-color-text-on-default-background);\n",
       "}\n",
       "\n",
       "/* On hover, darken the color of the background */\n",
       "#sk-container-id-6 div.sk-label:hover label.sk-toggleable__label {\n",
       "  color: var(--sklearn-color-text);\n",
       "  background-color: var(--sklearn-color-unfitted-level-2);\n",
       "}\n",
       "\n",
       "/* Label box, darken color on hover, fitted */\n",
       "#sk-container-id-6 div.sk-label.fitted:hover label.sk-toggleable__label.fitted {\n",
       "  color: var(--sklearn-color-text);\n",
       "  background-color: var(--sklearn-color-fitted-level-2);\n",
       "}\n",
       "\n",
       "/* Estimator label */\n",
       "\n",
       "#sk-container-id-6 div.sk-label label {\n",
       "  font-family: monospace;\n",
       "  font-weight: bold;\n",
       "  display: inline-block;\n",
       "  line-height: 1.2em;\n",
       "}\n",
       "\n",
       "#sk-container-id-6 div.sk-label-container {\n",
       "  text-align: center;\n",
       "}\n",
       "\n",
       "/* Estimator-specific */\n",
       "#sk-container-id-6 div.sk-estimator {\n",
       "  font-family: monospace;\n",
       "  border: 1px dotted var(--sklearn-color-border-box);\n",
       "  border-radius: 0.25em;\n",
       "  box-sizing: border-box;\n",
       "  margin-bottom: 0.5em;\n",
       "  /* unfitted */\n",
       "  background-color: var(--sklearn-color-unfitted-level-0);\n",
       "}\n",
       "\n",
       "#sk-container-id-6 div.sk-estimator.fitted {\n",
       "  /* fitted */\n",
       "  background-color: var(--sklearn-color-fitted-level-0);\n",
       "}\n",
       "\n",
       "/* on hover */\n",
       "#sk-container-id-6 div.sk-estimator:hover {\n",
       "  /* unfitted */\n",
       "  background-color: var(--sklearn-color-unfitted-level-2);\n",
       "}\n",
       "\n",
       "#sk-container-id-6 div.sk-estimator.fitted:hover {\n",
       "  /* fitted */\n",
       "  background-color: var(--sklearn-color-fitted-level-2);\n",
       "}\n",
       "\n",
       "/* Specification for estimator info (e.g. \"i\" and \"?\") */\n",
       "\n",
       "/* Common style for \"i\" and \"?\" */\n",
       "\n",
       ".sk-estimator-doc-link,\n",
       "a:link.sk-estimator-doc-link,\n",
       "a:visited.sk-estimator-doc-link {\n",
       "  float: right;\n",
       "  font-size: smaller;\n",
       "  line-height: 1em;\n",
       "  font-family: monospace;\n",
       "  background-color: var(--sklearn-color-background);\n",
       "  border-radius: 1em;\n",
       "  height: 1em;\n",
       "  width: 1em;\n",
       "  text-decoration: none !important;\n",
       "  margin-left: 1ex;\n",
       "  /* unfitted */\n",
       "  border: var(--sklearn-color-unfitted-level-1) 1pt solid;\n",
       "  color: var(--sklearn-color-unfitted-level-1);\n",
       "}\n",
       "\n",
       ".sk-estimator-doc-link.fitted,\n",
       "a:link.sk-estimator-doc-link.fitted,\n",
       "a:visited.sk-estimator-doc-link.fitted {\n",
       "  /* fitted */\n",
       "  border: var(--sklearn-color-fitted-level-1) 1pt solid;\n",
       "  color: var(--sklearn-color-fitted-level-1);\n",
       "}\n",
       "\n",
       "/* On hover */\n",
       "div.sk-estimator:hover .sk-estimator-doc-link:hover,\n",
       ".sk-estimator-doc-link:hover,\n",
       "div.sk-label-container:hover .sk-estimator-doc-link:hover,\n",
       ".sk-estimator-doc-link:hover {\n",
       "  /* unfitted */\n",
       "  background-color: var(--sklearn-color-unfitted-level-3);\n",
       "  color: var(--sklearn-color-background);\n",
       "  text-decoration: none;\n",
       "}\n",
       "\n",
       "div.sk-estimator.fitted:hover .sk-estimator-doc-link.fitted:hover,\n",
       ".sk-estimator-doc-link.fitted:hover,\n",
       "div.sk-label-container:hover .sk-estimator-doc-link.fitted:hover,\n",
       ".sk-estimator-doc-link.fitted:hover {\n",
       "  /* fitted */\n",
       "  background-color: var(--sklearn-color-fitted-level-3);\n",
       "  color: var(--sklearn-color-background);\n",
       "  text-decoration: none;\n",
       "}\n",
       "\n",
       "/* Span, style for the box shown on hovering the info icon */\n",
       ".sk-estimator-doc-link span {\n",
       "  display: none;\n",
       "  z-index: 9999;\n",
       "  position: relative;\n",
       "  font-weight: normal;\n",
       "  right: .2ex;\n",
       "  padding: .5ex;\n",
       "  margin: .5ex;\n",
       "  width: min-content;\n",
       "  min-width: 20ex;\n",
       "  max-width: 50ex;\n",
       "  color: var(--sklearn-color-text);\n",
       "  box-shadow: 2pt 2pt 4pt #999;\n",
       "  /* unfitted */\n",
       "  background: var(--sklearn-color-unfitted-level-0);\n",
       "  border: .5pt solid var(--sklearn-color-unfitted-level-3);\n",
       "}\n",
       "\n",
       ".sk-estimator-doc-link.fitted span {\n",
       "  /* fitted */\n",
       "  background: var(--sklearn-color-fitted-level-0);\n",
       "  border: var(--sklearn-color-fitted-level-3);\n",
       "}\n",
       "\n",
       ".sk-estimator-doc-link:hover span {\n",
       "  display: block;\n",
       "}\n",
       "\n",
       "/* \"?\"-specific style due to the `<a>` HTML tag */\n",
       "\n",
       "#sk-container-id-6 a.estimator_doc_link {\n",
       "  float: right;\n",
       "  font-size: 1rem;\n",
       "  line-height: 1em;\n",
       "  font-family: monospace;\n",
       "  background-color: var(--sklearn-color-background);\n",
       "  border-radius: 1rem;\n",
       "  height: 1rem;\n",
       "  width: 1rem;\n",
       "  text-decoration: none;\n",
       "  /* unfitted */\n",
       "  color: var(--sklearn-color-unfitted-level-1);\n",
       "  border: var(--sklearn-color-unfitted-level-1) 1pt solid;\n",
       "}\n",
       "\n",
       "#sk-container-id-6 a.estimator_doc_link.fitted {\n",
       "  /* fitted */\n",
       "  border: var(--sklearn-color-fitted-level-1) 1pt solid;\n",
       "  color: var(--sklearn-color-fitted-level-1);\n",
       "}\n",
       "\n",
       "/* On hover */\n",
       "#sk-container-id-6 a.estimator_doc_link:hover {\n",
       "  /* unfitted */\n",
       "  background-color: var(--sklearn-color-unfitted-level-3);\n",
       "  color: var(--sklearn-color-background);\n",
       "  text-decoration: none;\n",
       "}\n",
       "\n",
       "#sk-container-id-6 a.estimator_doc_link.fitted:hover {\n",
       "  /* fitted */\n",
       "  background-color: var(--sklearn-color-fitted-level-3);\n",
       "}\n",
       "</style><div id=\"sk-container-id-6\" class=\"sk-top-container\"><div class=\"sk-text-repr-fallback\"><pre>Pipeline(steps=[(&#x27;preprocessor&#x27;,\n",
       "                 ColumnTransformer(transformers=[(&#x27;num&#x27;, StandardScaler(),\n",
       "                                                  [&#x27;Days in bed&#x27;]),\n",
       "                                                 (&#x27;cat&#x27;,\n",
       "                                                  OneHotEncoder(handle_unknown=&#x27;ignore&#x27;),\n",
       "                                                  [&#x27;Medical Condition&#x27;,\n",
       "                                                   &#x27;Age Group&#x27;,\n",
       "                                                   &#x27;Test Results&#x27;])])),\n",
       "                (&#x27;kmeans&#x27;, KMeans(n_clusters=10, random_state=42))])</pre><b>In a Jupyter environment, please rerun this cell to show the HTML representation or trust the notebook. <br />On GitHub, the HTML representation is unable to render, please try loading this page with nbviewer.org.</b></div><div class=\"sk-container\" hidden><div class=\"sk-item sk-dashed-wrapped\"><div class=\"sk-label-container\"><div class=\"sk-label fitted sk-toggleable\"><input class=\"sk-toggleable__control sk-hidden--visually\" id=\"sk-estimator-id-28\" type=\"checkbox\" ><label for=\"sk-estimator-id-28\" class=\"sk-toggleable__label fitted sk-toggleable__label-arrow fitted\">&nbsp;&nbsp;Pipeline<a class=\"sk-estimator-doc-link fitted\" rel=\"noreferrer\" target=\"_blank\" href=\"https://scikit-learn.org/1.4/modules/generated/sklearn.pipeline.Pipeline.html\">?<span>Documentation for Pipeline</span></a><span class=\"sk-estimator-doc-link fitted\">i<span>Fitted</span></span></label><div class=\"sk-toggleable__content fitted\"><pre>Pipeline(steps=[(&#x27;preprocessor&#x27;,\n",
       "                 ColumnTransformer(transformers=[(&#x27;num&#x27;, StandardScaler(),\n",
       "                                                  [&#x27;Days in bed&#x27;]),\n",
       "                                                 (&#x27;cat&#x27;,\n",
       "                                                  OneHotEncoder(handle_unknown=&#x27;ignore&#x27;),\n",
       "                                                  [&#x27;Medical Condition&#x27;,\n",
       "                                                   &#x27;Age Group&#x27;,\n",
       "                                                   &#x27;Test Results&#x27;])])),\n",
       "                (&#x27;kmeans&#x27;, KMeans(n_clusters=10, random_state=42))])</pre></div> </div></div><div class=\"sk-serial\"><div class=\"sk-item sk-dashed-wrapped\"><div class=\"sk-label-container\"><div class=\"sk-label fitted sk-toggleable\"><input class=\"sk-toggleable__control sk-hidden--visually\" id=\"sk-estimator-id-29\" type=\"checkbox\" ><label for=\"sk-estimator-id-29\" class=\"sk-toggleable__label fitted sk-toggleable__label-arrow fitted\">&nbsp;preprocessor: ColumnTransformer<a class=\"sk-estimator-doc-link fitted\" rel=\"noreferrer\" target=\"_blank\" href=\"https://scikit-learn.org/1.4/modules/generated/sklearn.compose.ColumnTransformer.html\">?<span>Documentation for preprocessor: ColumnTransformer</span></a></label><div class=\"sk-toggleable__content fitted\"><pre>ColumnTransformer(transformers=[(&#x27;num&#x27;, StandardScaler(), [&#x27;Days in bed&#x27;]),\n",
       "                                (&#x27;cat&#x27;, OneHotEncoder(handle_unknown=&#x27;ignore&#x27;),\n",
       "                                 [&#x27;Medical Condition&#x27;, &#x27;Age Group&#x27;,\n",
       "                                  &#x27;Test Results&#x27;])])</pre></div> </div></div><div class=\"sk-parallel\"><div class=\"sk-parallel-item\"><div class=\"sk-item\"><div class=\"sk-label-container\"><div class=\"sk-label fitted sk-toggleable\"><input class=\"sk-toggleable__control sk-hidden--visually\" id=\"sk-estimator-id-30\" type=\"checkbox\" ><label for=\"sk-estimator-id-30\" class=\"sk-toggleable__label fitted sk-toggleable__label-arrow fitted\">num</label><div class=\"sk-toggleable__content fitted\"><pre>[&#x27;Days in bed&#x27;]</pre></div> </div></div><div class=\"sk-serial\"><div class=\"sk-item\"><div class=\"sk-estimator fitted sk-toggleable\"><input class=\"sk-toggleable__control sk-hidden--visually\" id=\"sk-estimator-id-31\" type=\"checkbox\" ><label for=\"sk-estimator-id-31\" class=\"sk-toggleable__label fitted sk-toggleable__label-arrow fitted\">&nbsp;StandardScaler<a class=\"sk-estimator-doc-link fitted\" rel=\"noreferrer\" target=\"_blank\" href=\"https://scikit-learn.org/1.4/modules/generated/sklearn.preprocessing.StandardScaler.html\">?<span>Documentation for StandardScaler</span></a></label><div class=\"sk-toggleable__content fitted\"><pre>StandardScaler()</pre></div> </div></div></div></div></div><div class=\"sk-parallel-item\"><div class=\"sk-item\"><div class=\"sk-label-container\"><div class=\"sk-label fitted sk-toggleable\"><input class=\"sk-toggleable__control sk-hidden--visually\" id=\"sk-estimator-id-32\" type=\"checkbox\" ><label for=\"sk-estimator-id-32\" class=\"sk-toggleable__label fitted sk-toggleable__label-arrow fitted\">cat</label><div class=\"sk-toggleable__content fitted\"><pre>[&#x27;Medical Condition&#x27;, &#x27;Age Group&#x27;, &#x27;Test Results&#x27;]</pre></div> </div></div><div class=\"sk-serial\"><div class=\"sk-item\"><div class=\"sk-estimator fitted sk-toggleable\"><input class=\"sk-toggleable__control sk-hidden--visually\" id=\"sk-estimator-id-33\" type=\"checkbox\" ><label for=\"sk-estimator-id-33\" class=\"sk-toggleable__label fitted sk-toggleable__label-arrow fitted\">&nbsp;OneHotEncoder<a class=\"sk-estimator-doc-link fitted\" rel=\"noreferrer\" target=\"_blank\" href=\"https://scikit-learn.org/1.4/modules/generated/sklearn.preprocessing.OneHotEncoder.html\">?<span>Documentation for OneHotEncoder</span></a></label><div class=\"sk-toggleable__content fitted\"><pre>OneHotEncoder(handle_unknown=&#x27;ignore&#x27;)</pre></div> </div></div></div></div></div></div></div><div class=\"sk-item\"><div class=\"sk-estimator fitted sk-toggleable\"><input class=\"sk-toggleable__control sk-hidden--visually\" id=\"sk-estimator-id-34\" type=\"checkbox\" ><label for=\"sk-estimator-id-34\" class=\"sk-toggleable__label fitted sk-toggleable__label-arrow fitted\">&nbsp;KMeans<a class=\"sk-estimator-doc-link fitted\" rel=\"noreferrer\" target=\"_blank\" href=\"https://scikit-learn.org/1.4/modules/generated/sklearn.cluster.KMeans.html\">?<span>Documentation for KMeans</span></a></label><div class=\"sk-toggleable__content fitted\"><pre>KMeans(n_clusters=10, random_state=42)</pre></div> </div></div></div></div></div></div>"
      ],
      "text/plain": [
       "Pipeline(steps=[('preprocessor',\n",
       "                 ColumnTransformer(transformers=[('num', StandardScaler(),\n",
       "                                                  ['Days in bed']),\n",
       "                                                 ('cat',\n",
       "                                                  OneHotEncoder(handle_unknown='ignore'),\n",
       "                                                  ['Medical Condition',\n",
       "                                                   'Age Group',\n",
       "                                                   'Test Results'])])),\n",
       "                ('kmeans', KMeans(n_clusters=10, random_state=42))])"
      ]
     },
     "execution_count": 67,
     "metadata": {},
     "output_type": "execute_result"
    }
   ],
   "source": [
    "# Define the KMeans model\n",
    "# You'll need to determine the optimal number of clusters (n_clusters)\n",
    "# We'll start with a guess (e.g., 3) and discuss how to find the optimal value\n",
    "n_clusters = 10\n",
    "kmeans = KMeans(n_clusters=n_clusters, random_state=42, n_init='auto')\n",
    "\n",
    "# Create a pipeline to first preprocess the data and then apply KMeans\n",
    "pipeline = Pipeline(steps=[('preprocessor', preprocessor),\n",
    "                           ('kmeans', kmeans)])\n",
    "\n",
    "# Fit the pipeline to the data\n",
    "pipeline.fit(hc_df)\n"
   ]
  },
  {
   "cell_type": "code",
   "execution_count": 68,
   "id": "ed27159b",
   "metadata": {},
   "outputs": [
    {
     "name": "stdout",
     "output_type": "stream",
     "text": [
      "0        8\n",
      "1        6\n",
      "2        7\n",
      "3        3\n",
      "4        9\n",
      "        ..\n",
      "55495    9\n",
      "55496    7\n",
      "55497    9\n",
      "55498    2\n",
      "55499    5\n",
      "Name: Cluster, Length: 55500, dtype: int32\n"
     ]
    }
   ],
   "source": [
    "\n",
    "# Transform the data\n",
    "transformed_data = pipeline.transform(hc_df)\n",
    "\n",
    "# Get the cluster labels assigned to each patient\n",
    "cluster_labels = pipeline.predict(hc_df)\n",
    "\n",
    "# Add the cluster labels to the DataFrame\n",
    "hc_df['Cluster'] = cluster_labels\n",
    "\n",
    "# Display the DataFrame with cluster assignments\n",
    "print(hc_df['Cluster'])"
   ]
  },
  {
   "cell_type": "code",
   "execution_count": 69,
   "id": "e1610075",
   "metadata": {},
   "outputs": [
    {
     "data": {
      "image/png": "[encoded data removed]",
      "text/plain": [
       "<Figure size 1000x600 with 1 Axes>"
      ]
     },
     "metadata": {},
     "output_type": "display_data"
    }
   ],
   "source": [
    "# Apply the Elbow Method\n",
    "wcss = []\n",
    "range_n_clusters = range(1, 15)  # Try a range of 1 to 10 clusters\n",
    "\n",
    "for n_clusters in range_n_clusters:\n",
    "    kmeans = KMeans(n_clusters=n_clusters, random_state=42, n_init='auto')\n",
    "    kmeans.fit(transformed_data)\n",
    "    wcss.append(kmeans.inertia_)\n",
    "\n",
    "# Plot the Elbow Curve\n",
    "plt.figure(figsize=(10, 6))\n",
    "plt.plot(range_n_clusters, wcss, marker='o', linestyle='-')\n",
    "plt.title('Elbow Method for Optimal Number of Clusters')\n",
    "plt.xlabel('Number of Clusters')\n",
    "plt.ylabel('Within-Cluster Sum of Squares (WCSS)')\n",
    "plt.xticks(range_n_clusters)\n",
    "plt.grid(True)\n",
    "plt.show()"
   ]
  },
  {
   "cell_type": "code",
   "execution_count": 70,
   "id": "91dfebcb",
   "metadata": {},
   "outputs": [
    {
     "name": "stdout",
     "output_type": "stream",
     "text": [
      "\n",
      "Cluster Characteristics:\n",
      "        Medical Condition    Age Group  Test Results Days in bed        \n",
      "                 <lambda>     <lambda>      <lambda>        mean min max\n",
      "Cluster                                                                 \n",
      "0            Hypertension       Senior  Inconclusive   22.030314  14  30\n",
      "1                Diabetes       Senior        Normal   23.558906  17  30\n",
      "2                 Obesity        Adult      Abnormal    8.594600   1  17\n",
      "3                  Asthma  Young Adult  Inconclusive   22.509363  14  30\n",
      "4                Diabetes       Senior      Abnormal    8.025698   1  15\n",
      "5                 Obesity       Senior      Abnormal   23.016328  16  30\n",
      "6                  Cancer       Senior  Inconclusive    7.306225   1  15\n",
      "7            Hypertension       Senior        Normal    8.528733   1  16\n",
      "8                  Asthma        Adult        Normal    8.608915   1  17\n",
      "9               Arthritis        Adult  Inconclusive   23.654098  16  30\n"
     ]
    }
   ],
   "source": [
    "# You can now analyze the characteristics of each cluster\n",
    "print(\"\\nCluster Characteristics:\")\n",
    "print(hc_df.groupby('Cluster').agg({\n",
    "    'Medical Condition': lambda x: x.mode()[0] if not x.empty else None,\n",
    "    'Age Group': lambda x: x.mode()[0] if not x.empty else None,\n",
    "    'Test Results': lambda x: x.mode()[0] if not x.empty else None,\n",
    "    'Days in bed': 'mean',\n",
    "    'Days in bed': ['mean', 'min', 'max']\n",
    "}))"
   ]
  },
  {
   "cell_type": "code",
   "execution_count": 71,
   "id": "f23f4fce",
   "metadata": {},
   "outputs": [
    {
     "data": {
      "image/png": "[encoded data removed]",
      "text/plain": [
       "<Figure size 800x600 with 1 Axes>"
      ]
     },
     "metadata": {},
     "output_type": "display_data"
    },
    {
     "data": {
      "image/png": "[encoded data removed]",
      "text/plain": [
       "<Figure size 800x600 with 1 Axes>"
      ]
     },
     "metadata": {},
     "output_type": "display_data"
    }
   ],
   "source": [
    "import matplotlib.pyplot as plt\n",
    "import seaborn as sns\n",
    "\n",
    "plt.figure(figsize=(8, 6))\n",
    "sns.boxplot(x='Cluster', y='Days in bed', data=hc_df)\n",
    "plt.title('Days in Bed Distribution by Cluster')\n",
    "plt.xlabel('Cluster')\n",
    "plt.ylabel('Days in Bed')\n",
    "plt.show()\n",
    "\n",
    "plt.figure(figsize=(8, 6))\n",
    "sns.violinplot(x='Cluster', y='Days in bed', data=hc_df)\n",
    "plt.title('Days in Bed Distribution by Cluster')\n",
    "plt.xlabel('Cluster')\n",
    "plt.ylabel('Days in Bed')\n",
    "plt.show()"
   ]
  },
  {
   "cell_type": "code",
   "execution_count": 65,
   "id": "d61e89b5",
   "metadata": {},
   "outputs": [
    {
     "data": {
      "image/png": "[encoded data removed]",
      "text/plain": [
       "<Figure size 1000x600 with 1 Axes>"
      ]
     },
     "metadata": {},
     "output_type": "display_data"
    },
    {
     "data": {
      "image/png": "[encoded data removed]",
      "text/plain": [
       "<Figure size 1000x600 with 1 Axes>"
      ]
     },
     "metadata": {},
     "output_type": "display_data"
    },
    {
     "data": {
      "image/png": "[encoded data removed]",
      "text/plain": [
       "<Figure size 1000x600 with 1 Axes>"
      ]
     },
     "metadata": {},
     "output_type": "display_data"
    }
   ],
   "source": [
    "import matplotlib.pyplot as plt\n",
    "import seaborn as sns\n",
    "\n",
    "categorical_cols = ['Medical Condition', 'Age Group', 'Test Results']\n",
    "\n",
    "for col in categorical_cols:\n",
    "    plt.figure(figsize=(10, 6))\n",
    "    sns.countplot(data=hc_df, x=col, hue='Cluster', palette='viridis')\n",
    "    plt.title(f'Distribution of {col} by Cluster')\n",
    "    plt.xlabel(col)\n",
    "    plt.ylabel('Count')\n",
    "    plt.legend(title='Cluster')\n",
    "    plt.show()"
   ]
  },
  {
   "cell_type": "code",
   "execution_count": 66,
   "id": "5061333f",
   "metadata": {},
   "outputs": [
    {
     "ename": "TypeError",
     "evalue": "PCA only support sparse inputs with the \"arpack\" solver, while \"auto\" was passed. See TruncatedSVD for a possible alternative.",
     "output_type": "error",
     "traceback": [
      "\u001b[0;31m---------------------------------------------------------------------------\u001b[0m",
      "\u001b[0;31mTypeError\u001b[0m                                 Traceback (most recent call last)",
      "Cell \u001b[0;32mIn[66], line 10\u001b[0m\n\u001b[1;32m      7\u001b[0m transformed_data \u001b[39m=\u001b[39m preprocessor\u001b[39m.\u001b[39mtransform(hc_df)\n\u001b[1;32m      9\u001b[0m pca \u001b[39m=\u001b[39m PCA(n_components\u001b[39m=\u001b[39m\u001b[39m2\u001b[39m)\n\u001b[0;32m---> 10\u001b[0m pca_result \u001b[39m=\u001b[39m pca\u001b[39m.\u001b[39mfit_transform(transformed_data)\n\u001b[1;32m     12\u001b[0m df_pca \u001b[39m=\u001b[39m pd\u001b[39m.\u001b[39mDataFrame(data\u001b[39m=\u001b[39mpca_result, columns\u001b[39m=\u001b[39m[\u001b[39m'\u001b[39m\u001b[39mPCA Component 1\u001b[39m\u001b[39m'\u001b[39m, \u001b[39m'\u001b[39m\u001b[39mPCA Component 2\u001b[39m\u001b[39m'\u001b[39m])\n\u001b[1;32m     13\u001b[0m df_pca[\u001b[39m'\u001b[39m\u001b[39mCluster\u001b[39m\u001b[39m'\u001b[39m] \u001b[39m=\u001b[39m hc_df[\u001b[39m'\u001b[39m\u001b[39mCluster\u001b[39m\u001b[39m'\u001b[39m]\n",
      "File \u001b[0;32m~/anaconda3/lib/python3.11/site-packages/sklearn/utils/_set_output.py:295\u001b[0m, in \u001b[0;36m_wrap_method_output.<locals>.wrapped\u001b[0;34m(self, X, *args, **kwargs)\u001b[0m\n\u001b[1;32m    293\u001b[0m \u001b[39m@wraps\u001b[39m(f)\n\u001b[1;32m    294\u001b[0m \u001b[39mdef\u001b[39;00m \u001b[39mwrapped\u001b[39m(\u001b[39mself\u001b[39m, X, \u001b[39m*\u001b[39margs, \u001b[39m*\u001b[39m\u001b[39m*\u001b[39mkwargs):\n\u001b[0;32m--> 295\u001b[0m     data_to_wrap \u001b[39m=\u001b[39m f(\u001b[39mself\u001b[39m, X, \u001b[39m*\u001b[39margs, \u001b[39m*\u001b[39m\u001b[39m*\u001b[39mkwargs)\n\u001b[1;32m    296\u001b[0m     \u001b[39mif\u001b[39;00m \u001b[39misinstance\u001b[39m(data_to_wrap, \u001b[39mtuple\u001b[39m):\n\u001b[1;32m    297\u001b[0m         \u001b[39m# only wrap the first output for cross decomposition\u001b[39;00m\n\u001b[1;32m    298\u001b[0m         return_tuple \u001b[39m=\u001b[39m (\n\u001b[1;32m    299\u001b[0m             _wrap_data_with_container(method, data_to_wrap[\u001b[39m0\u001b[39m], X, \u001b[39mself\u001b[39m),\n\u001b[1;32m    300\u001b[0m             \u001b[39m*\u001b[39mdata_to_wrap[\u001b[39m1\u001b[39m:],\n\u001b[1;32m    301\u001b[0m         )\n",
      "File \u001b[0;32m~/anaconda3/lib/python3.11/site-packages/sklearn/base.py:1474\u001b[0m, in \u001b[0;36m_fit_context.<locals>.decorator.<locals>.wrapper\u001b[0;34m(estimator, *args, **kwargs)\u001b[0m\n\u001b[1;32m   1467\u001b[0m     estimator\u001b[39m.\u001b[39m_validate_params()\n\u001b[1;32m   1469\u001b[0m \u001b[39mwith\u001b[39;00m config_context(\n\u001b[1;32m   1470\u001b[0m     skip_parameter_validation\u001b[39m=\u001b[39m(\n\u001b[1;32m   1471\u001b[0m         prefer_skip_nested_validation \u001b[39mor\u001b[39;00m global_skip_validation\n\u001b[1;32m   1472\u001b[0m     )\n\u001b[1;32m   1473\u001b[0m ):\n\u001b[0;32m-> 1474\u001b[0m     \u001b[39mreturn\u001b[39;00m fit_method(estimator, \u001b[39m*\u001b[39margs, \u001b[39m*\u001b[39m\u001b[39m*\u001b[39mkwargs)\n",
      "File \u001b[0;32m~/anaconda3/lib/python3.11/site-packages/sklearn/decomposition/_pca.py:454\u001b[0m, in \u001b[0;36mPCA.fit_transform\u001b[0;34m(self, X, y)\u001b[0m\n\u001b[1;32m    431\u001b[0m \u001b[39m@_fit_context\u001b[39m(prefer_skip_nested_validation\u001b[39m=\u001b[39m\u001b[39mTrue\u001b[39;00m)\n\u001b[1;32m    432\u001b[0m \u001b[39mdef\u001b[39;00m \u001b[39mfit_transform\u001b[39m(\u001b[39mself\u001b[39m, X, y\u001b[39m=\u001b[39m\u001b[39mNone\u001b[39;00m):\n\u001b[1;32m    433\u001b[0m \u001b[39m    \u001b[39m\u001b[39m\"\"\"Fit the model with X and apply the dimensionality reduction on X.\u001b[39;00m\n\u001b[1;32m    434\u001b[0m \n\u001b[1;32m    435\u001b[0m \u001b[39m    Parameters\u001b[39;00m\n\u001b[0;32m   (...)\u001b[0m\n\u001b[1;32m    452\u001b[0m \u001b[39m    C-ordered array, use 'np.ascontiguousarray'.\u001b[39;00m\n\u001b[1;32m    453\u001b[0m \u001b[39m    \"\"\"\u001b[39;00m\n\u001b[0;32m--> 454\u001b[0m     U, S, Vt \u001b[39m=\u001b[39m \u001b[39mself\u001b[39m\u001b[39m.\u001b[39m_fit(X)\n\u001b[1;32m    455\u001b[0m     U \u001b[39m=\u001b[39m U[:, : \u001b[39mself\u001b[39m\u001b[39m.\u001b[39mn_components_]\n\u001b[1;32m    457\u001b[0m     \u001b[39mif\u001b[39;00m \u001b[39mself\u001b[39m\u001b[39m.\u001b[39mwhiten:\n\u001b[1;32m    458\u001b[0m         \u001b[39m# X_new = X * V / S * sqrt(n_samples) = U * sqrt(n_samples)\u001b[39;00m\n",
      "File \u001b[0;32m~/anaconda3/lib/python3.11/site-packages/sklearn/decomposition/_pca.py:472\u001b[0m, in \u001b[0;36mPCA._fit\u001b[0;34m(self, X)\u001b[0m\n\u001b[1;32m    470\u001b[0m \u001b[39m# Raise an error for sparse input and unsupported svd_solver\u001b[39;00m\n\u001b[1;32m    471\u001b[0m \u001b[39mif\u001b[39;00m issparse(X) \u001b[39mand\u001b[39;00m \u001b[39mself\u001b[39m\u001b[39m.\u001b[39msvd_solver \u001b[39m!=\u001b[39m \u001b[39m\"\u001b[39m\u001b[39marpack\u001b[39m\u001b[39m\"\u001b[39m:\n\u001b[0;32m--> 472\u001b[0m     \u001b[39mraise\u001b[39;00m \u001b[39mTypeError\u001b[39;00m(\n\u001b[1;32m    473\u001b[0m         \u001b[39m'\u001b[39m\u001b[39mPCA only support sparse inputs with the \u001b[39m\u001b[39m\"\u001b[39m\u001b[39marpack\u001b[39m\u001b[39m\"\u001b[39m\u001b[39m solver, while \u001b[39m\u001b[39m'\u001b[39m\n\u001b[1;32m    474\u001b[0m         \u001b[39mf\u001b[39m\u001b[39m'\u001b[39m\u001b[39m\"\u001b[39m\u001b[39m{\u001b[39;00m\u001b[39mself\u001b[39m\u001b[39m.\u001b[39msvd_solver\u001b[39m}\u001b[39;00m\u001b[39m\"\u001b[39m\u001b[39m was passed. See TruncatedSVD for a possible\u001b[39m\u001b[39m'\u001b[39m\n\u001b[1;32m    475\u001b[0m         \u001b[39m\"\u001b[39m\u001b[39m alternative.\u001b[39m\u001b[39m\"\u001b[39m\n\u001b[1;32m    476\u001b[0m     )\n\u001b[1;32m    477\u001b[0m \u001b[39m# Raise an error for non-Numpy input and arpack solver.\u001b[39;00m\n\u001b[1;32m    478\u001b[0m \u001b[39mif\u001b[39;00m \u001b[39mself\u001b[39m\u001b[39m.\u001b[39msvd_solver \u001b[39m==\u001b[39m \u001b[39m\"\u001b[39m\u001b[39marpack\u001b[39m\u001b[39m\"\u001b[39m \u001b[39mand\u001b[39;00m is_array_api_compliant:\n",
      "\u001b[0;31mTypeError\u001b[0m: PCA only support sparse inputs with the \"arpack\" solver, while \"auto\" was passed. See TruncatedSVD for a possible alternative."
     ]
    }
   ],
   "source": [
    "from sklearn.decomposition import PCA\n",
    "import matplotlib.pyplot as plt\n",
    "import seaborn as sns\n",
    "\n",
    "# Ensure your pipeline has been fitted\n",
    "preprocessor = pipeline.named_steps['preprocessor']\n",
    "transformed_data = preprocessor.transform(hc_df)\n",
    "\n",
    "pca = PCA(n_components=2)\n",
    "pca_result = pca.fit_transform(transformed_data)\n",
    "\n",
    "df_pca = pd.DataFrame(data=pca_result, columns=['PCA Component 1', 'PCA Component 2'])\n",
    "df_pca['Cluster'] = hc_df['Cluster']\n",
    "\n",
    "plt.figure(figsize=(8, 6))\n",
    "sns.scatterplot(x='PCA Component 1', y='PCA Component 2', hue='Cluster', data=df_pca, palette='viridis')\n",
    "plt.title('PCA Visualization of Clusters')\n",
    "plt.xlabel('PCA Component 1')\n",
    "plt.ylabel('PCA Component 2')\n",
    "plt.show()\n",
    "\n",
    "# For t-SNE (can be slower for large datasets)\n",
    "from sklearn.manifold import TSNE\n",
    "\n",
    "tsne = TSNE(n_components=2, random_state=42, perplexity=30, n_iter=300)\n",
    "tsne_result = tsne.fit_transform(transformed_data)\n",
    "\n",
    "df_tsne = pd.DataFrame(data=tsne_result, columns=['TSNE Component 1', 'TSNE Component 2'])\n",
    "df_tsne['Cluster'] = hc_df['Cluster']\n",
    "\n",
    "plt.figure(figsize=(8, 6))\n",
    "sns.scatterplot(x='TSNE Component 1', y='TSNE Component 2', hue='Cluster', data=df_tsne, palette='viridis')\n",
    "plt.title('t-SNE Visualization of Clusters')\n",
    "plt.xlabel('t-SNE Component 1')\n",
    "plt.ylabel('t-SNE Component 2')\n",
    "plt.show()"
   ]
  },
  {
   "cell_type": "code",
   "execution_count": null,
   "id": "b36c4232",
   "metadata": {},
   "outputs": [],
   "source": [
    "a"
   ]
  },
  {
   "cell_type": "markdown",
   "id": "45c1753e",
   "metadata": {},
   "source": [
    "### Clusters based on Medical Condition, Medication, and Doctor: \n",
    "This could highlight common treatment pathways for different conditions and identify doctors specializing in certain patient groups.\n"
   ]
  },
  {
   "cell_type": "code",
   "execution_count": null,
   "id": "9bbdc09e",
   "metadata": {},
   "outputs": [],
   "source": []
  },
  {
   "cell_type": "code",
   "execution_count": null,
   "id": "861dffb9",
   "metadata": {},
   "outputs": [],
   "source": []
  },
  {
   "cell_type": "markdown",
   "id": "929399f8",
   "metadata": {},
   "source": [
    "## Optimizing Hospital Resource Allocation:"
   ]
  },
  {
   "cell_type": "markdown",
   "id": "10cb93b3",
   "metadata": {},
   "source": [
    "### Clusters based on Admission Type, Days in Bed, Room Number, and Hospital:\n",
    "This could help identify patterns in hospital resource utilization, length of stay for different admission types, and potential bottlenecks in specific rooms or hospitals.\n"
   ]
  },
  {
   "cell_type": "markdown",
   "id": "247ba1e0",
   "metadata": {},
   "source": []
  },
  {
   "cell_type": "code",
   "execution_count": null,
   "id": "accec042",
   "metadata": {},
   "outputs": [],
   "source": []
  },
  {
   "cell_type": "markdown",
   "id": "3f14ce19",
   "metadata": {},
   "source": [
    "### Clusters based on Medical Condition, Admission Type, and Insurance Provider: \n",
    "This might reveal differences in admission patterns and lengths of stay based on the type of medical condition and insurance coverage.\n"
   ]
  },
  {
   "cell_type": "code",
   "execution_count": null,
   "id": "2c2c65aa",
   "metadata": {},
   "outputs": [],
   "source": []
  },
  {
   "cell_type": "code",
   "execution_count": null,
   "id": "e30e5be8",
   "metadata": {},
   "outputs": [],
   "source": []
  },
  {
   "cell_type": "markdown",
   "id": "2b85234a",
   "metadata": {},
   "source": [
    "## Analyzing Billing and Insurance Patterns:"
   ]
  },
  {
   "cell_type": "markdown",
   "id": "e65bbdfd",
   "metadata": {},
   "source": [
    "### Clusters based on Insurance Provider, Billing Amount, and Medical Condition: \n",
    "This could help understand the cost of treating different medical conditions under various insurance plans.\n"
   ]
  },
  {
   "cell_type": "code",
   "execution_count": null,
   "id": "4d016e74",
   "metadata": {},
   "outputs": [],
   "source": []
  },
  {
   "cell_type": "code",
   "execution_count": null,
   "id": "75dbd86c",
   "metadata": {},
   "outputs": [],
   "source": []
  },
  {
   "cell_type": "code",
   "execution_count": null,
   "id": "5af68fed",
   "metadata": {},
   "outputs": [],
   "source": []
  },
  {
   "cell_type": "markdown",
   "id": "3b3e471e",
   "metadata": {},
   "source": [
    "### Clusters based on Insurance Provider, Age Group, and Billing Amount: \n",
    "This might reveal variations in healthcare costs across different age groups and insurance providers.\n"
   ]
  },
  {
   "cell_type": "code",
   "execution_count": null,
   "id": "8c79d44c",
   "metadata": {},
   "outputs": [],
   "source": []
  },
  {
   "cell_type": "code",
   "execution_count": null,
   "id": "d2c89c72",
   "metadata": {},
   "outputs": [],
   "source": []
  },
  {
   "cell_type": "markdown",
   "id": "7a27d8d2",
   "metadata": {},
   "source": [
    "## Identifying Patient Demographics and Healthcare Preferences:"
   ]
  },
  {
   "cell_type": "markdown",
   "id": "71917f64",
   "metadata": {},
   "source": [
    "### Clusters based on Age, Gender, Blood Type, and Medical Condition: \n",
    "This could reveal demographic patterns associated with specific medical conditions.\n"
   ]
  },
  {
   "cell_type": "code",
   "execution_count": null,
   "id": "6ead9e73",
   "metadata": {},
   "outputs": [],
   "source": []
  },
  {
   "cell_type": "code",
   "execution_count": null,
   "id": "71d3c17c",
   "metadata": {},
   "outputs": [],
   "source": []
  },
  {
   "cell_type": "markdown",
   "id": "862106f8",
   "metadata": {},
   "source": [
    "### Clusters based on Age Group, Hospital, and Doctor: \n",
    "This might show preferences for certain hospitals or doctors within specific age groups.\n"
   ]
  },
  {
   "cell_type": "code",
   "execution_count": null,
   "id": "383ded74",
   "metadata": {},
   "outputs": [],
   "source": []
  },
  {
   "cell_type": "code",
   "execution_count": null,
   "id": "0260deab",
   "metadata": {},
   "outputs": [],
   "source": []
  },
  {
   "cell_type": "markdown",
   "id": "07506255",
   "metadata": {},
   "source": []
  }
 ],
 "metadata": {
  "kernelspec": {
   "display_name": "base",
   "language": "python",
   "name": "python3"
  },
  "language_info": {
   "codemirror_mode": {
    "name": "ipython",
    "version": 3
   },
   "file_extension": ".py",
   "mimetype": "text/x-python",
   "name": "python",
   "nbconvert_exporter": "python",
   "pygments_lexer": "ipython3",
   "version": "3.11.8"
  }
 },
 "nbformat": 4,
 "nbformat_minor": 5
}
