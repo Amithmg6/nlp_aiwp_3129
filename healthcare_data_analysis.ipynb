{
 "cells": [
  {
   "cell_type": "markdown",
   "id": "6c71ae13",
   "metadata": {},
   "source": [
    "# HealthCare Analysis"
   ]
  },
  {
   "cell_type": "markdown",
   "id": "a0c494e5",
   "metadata": {},
   "source": [
    "## EDA"
   ]
  },
  {
   "cell_type": "markdown",
   "metadata": {},
   "source": [
    "Libraries and Data"
   ]
  },
  {
   "cell_type": "code",
   "execution_count": 1,
   "id": "81c24a07",
   "metadata": {},
   "outputs": [],
   "source": [
    "import os\n",
    "import pandas as pd\n",
    "import numpy as np\n",
    "import matplotlib.pyplot as plt\n",
    "import re\n"
   ]
  },
  {
   "cell_type": "code",
   "execution_count": 2,
   "id": "43e6653d",
   "metadata": {},
   "outputs": [
    {
     "name": "stdout",
     "output_type": "stream",
     "text": [
      "You are here: b'/Users/amithmg/Documents/GitHub/nlp_aiwp_3129'\n"
     ]
    }
   ],
   "source": [
    "print(\"You are here:\",os.getcwdb())"
   ]
  },
  {
   "cell_type": "code",
   "execution_count": 3,
   "id": "d49fbfa9",
   "metadata": {},
   "outputs": [
    {
     "name": "stdout",
     "output_type": "stream",
     "text": [
      "zsh:1: command not found: dir\n"
     ]
    }
   ],
   "source": [
    "!dir"
   ]
  },
  {
   "cell_type": "code",
   "execution_count": 4,
   "id": "9737e9a9",
   "metadata": {},
   "outputs": [],
   "source": [
    "hc_df = pd.read_csv('dataset/kaggle healthcare_dataset.csv')"
   ]
  },
  {
   "cell_type": "markdown",
   "id": "f30a9d0d",
   "metadata": {},
   "source": [
    "### Data description and detailing (READMe)"
   ]
  },
  {
   "cell_type": "markdown",
   "id": "01b8e495",
   "metadata": {},
   "source": [
    "* Health care data has 55500 records and 15 variables\n",
    "* Patient details are shared in this data such as name, age, gender, medication, doctor and more.\n",
    "* Data types(dtypes): float64(1), int64(2), object(12).\n",
    "* Data types must be changed for variables listed below:\n",
    "    * Discharge Date: object to Date\n",
    "    * Date of Admission: object to Date\n",
    "\n",
    "\n"
   ]
  },
  {
   "cell_type": "code",
   "execution_count": 5,
   "id": "2a00814c",
   "metadata": {},
   "outputs": [
    {
     "data": {
      "text/plain": [
       "(55500, 15)"
      ]
     },
     "execution_count": 5,
     "metadata": {},
     "output_type": "execute_result"
    }
   ],
   "source": [
    "hc_df.shape"
   ]
  },
  {
   "cell_type": "code",
   "execution_count": 6,
   "id": "0e1c846a",
   "metadata": {},
   "outputs": [
    {
     "data": {
      "text/plain": [
       "Index(['Name', 'Age', 'Gender', 'Blood Type', 'Medical Condition',\n",
       "       'Date of Admission', 'Doctor', 'Hospital', 'Insurance Provider',\n",
       "       'Billing Amount', 'Room Number', 'Admission Type', 'Discharge Date',\n",
       "       'Medication', 'Test Results'],\n",
       "      dtype='object')"
      ]
     },
     "execution_count": 6,
     "metadata": {},
     "output_type": "execute_result"
    }
   ],
   "source": [
    "hc_df.columns"
   ]
  },
  {
   "cell_type": "code",
   "execution_count": 7,
   "id": "03696ab8",
   "metadata": {},
   "outputs": [
    {
     "name": "stdout",
     "output_type": "stream",
     "text": [
      "<class 'pandas.core.frame.DataFrame'>\n",
      "RangeIndex: 55500 entries, 0 to 55499\n",
      "Data columns (total 15 columns):\n",
      " #   Column              Non-Null Count  Dtype  \n",
      "---  ------              --------------  -----  \n",
      " 0   Name                55500 non-null  object \n",
      " 1   Age                 55500 non-null  int64  \n",
      " 2   Gender              55500 non-null  object \n",
      " 3   Blood Type          55500 non-null  object \n",
      " 4   Medical Condition   55500 non-null  object \n",
      " 5   Date of Admission   55500 non-null  object \n",
      " 6   Doctor              55500 non-null  object \n",
      " 7   Hospital            55500 non-null  object \n",
      " 8   Insurance Provider  55500 non-null  object \n",
      " 9   Billing Amount      55500 non-null  float64\n",
      " 10  Room Number         55500 non-null  int64  \n",
      " 11  Admission Type      55500 non-null  object \n",
      " 12  Discharge Date      55500 non-null  object \n",
      " 13  Medication          55500 non-null  object \n",
      " 14  Test Results        55500 non-null  object \n",
      "dtypes: float64(1), int64(2), object(12)\n",
      "memory usage: 6.4+ MB\n"
     ]
    }
   ],
   "source": [
    "hc_df.info()"
   ]
  },
  {
   "cell_type": "code",
   "execution_count": 8,
   "id": "0b68ae23",
   "metadata": {},
   "outputs": [
    {
     "data": {
      "text/html": [
       "<div>\n",
       "<style scoped>\n",
       "    .dataframe tbody tr th:only-of-type {\n",
       "        vertical-align: middle;\n",
       "    }\n",
       "\n",
       "    .dataframe tbody tr th {\n",
       "        vertical-align: top;\n",
       "    }\n",
       "\n",
       "    .dataframe thead th {\n",
       "        text-align: right;\n",
       "    }\n",
       "</style>\n",
       "<table border=\"1\" class=\"dataframe\">\n",
       "  <thead>\n",
       "    <tr style=\"text-align: right;\">\n",
       "      <th></th>\n",
       "      <th>Name</th>\n",
       "      <th>Age</th>\n",
       "      <th>Gender</th>\n",
       "      <th>Blood Type</th>\n",
       "      <th>Medical Condition</th>\n",
       "      <th>Date of Admission</th>\n",
       "      <th>Doctor</th>\n",
       "      <th>Hospital</th>\n",
       "      <th>Insurance Provider</th>\n",
       "      <th>Billing Amount</th>\n",
       "      <th>Room Number</th>\n",
       "      <th>Admission Type</th>\n",
       "      <th>Discharge Date</th>\n",
       "      <th>Medication</th>\n",
       "      <th>Test Results</th>\n",
       "    </tr>\n",
       "  </thead>\n",
       "  <tbody>\n",
       "    <tr>\n",
       "      <th>0</th>\n",
       "      <td>Bobby JacksOn</td>\n",
       "      <td>30</td>\n",
       "      <td>Male</td>\n",
       "      <td>B-</td>\n",
       "      <td>Cancer</td>\n",
       "      <td>2024-01-31</td>\n",
       "      <td>Matthew Smith</td>\n",
       "      <td>Sons and Miller</td>\n",
       "      <td>Blue Cross</td>\n",
       "      <td>18856.281306</td>\n",
       "      <td>328</td>\n",
       "      <td>Urgent</td>\n",
       "      <td>2024-02-02</td>\n",
       "      <td>Paracetamol</td>\n",
       "      <td>Normal</td>\n",
       "    </tr>\n",
       "    <tr>\n",
       "      <th>1</th>\n",
       "      <td>LesLie TErRy</td>\n",
       "      <td>62</td>\n",
       "      <td>Male</td>\n",
       "      <td>A+</td>\n",
       "      <td>Obesity</td>\n",
       "      <td>2019-08-20</td>\n",
       "      <td>Samantha Davies</td>\n",
       "      <td>Kim Inc</td>\n",
       "      <td>Medicare</td>\n",
       "      <td>33643.327287</td>\n",
       "      <td>265</td>\n",
       "      <td>Emergency</td>\n",
       "      <td>2019-08-26</td>\n",
       "      <td>Ibuprofen</td>\n",
       "      <td>Inconclusive</td>\n",
       "    </tr>\n",
       "    <tr>\n",
       "      <th>2</th>\n",
       "      <td>DaNnY sMitH</td>\n",
       "      <td>76</td>\n",
       "      <td>Female</td>\n",
       "      <td>A-</td>\n",
       "      <td>Obesity</td>\n",
       "      <td>2022-09-22</td>\n",
       "      <td>Tiffany Mitchell</td>\n",
       "      <td>Cook PLC</td>\n",
       "      <td>Aetna</td>\n",
       "      <td>27955.096079</td>\n",
       "      <td>205</td>\n",
       "      <td>Emergency</td>\n",
       "      <td>2022-10-07</td>\n",
       "      <td>Aspirin</td>\n",
       "      <td>Normal</td>\n",
       "    </tr>\n",
       "    <tr>\n",
       "      <th>3</th>\n",
       "      <td>andrEw waTtS</td>\n",
       "      <td>28</td>\n",
       "      <td>Female</td>\n",
       "      <td>O+</td>\n",
       "      <td>Diabetes</td>\n",
       "      <td>2020-11-18</td>\n",
       "      <td>Kevin Wells</td>\n",
       "      <td>Hernandez Rogers and Vang,</td>\n",
       "      <td>Medicare</td>\n",
       "      <td>37909.782410</td>\n",
       "      <td>450</td>\n",
       "      <td>Elective</td>\n",
       "      <td>2020-12-18</td>\n",
       "      <td>Ibuprofen</td>\n",
       "      <td>Abnormal</td>\n",
       "    </tr>\n",
       "    <tr>\n",
       "      <th>4</th>\n",
       "      <td>adrIENNE bEll</td>\n",
       "      <td>43</td>\n",
       "      <td>Female</td>\n",
       "      <td>AB+</td>\n",
       "      <td>Cancer</td>\n",
       "      <td>2022-09-19</td>\n",
       "      <td>Kathleen Hanna</td>\n",
       "      <td>White-White</td>\n",
       "      <td>Aetna</td>\n",
       "      <td>14238.317814</td>\n",
       "      <td>458</td>\n",
       "      <td>Urgent</td>\n",
       "      <td>2022-10-09</td>\n",
       "      <td>Penicillin</td>\n",
       "      <td>Abnormal</td>\n",
       "    </tr>\n",
       "    <tr>\n",
       "      <th>5</th>\n",
       "      <td>EMILY JOHNSOn</td>\n",
       "      <td>36</td>\n",
       "      <td>Male</td>\n",
       "      <td>A+</td>\n",
       "      <td>Asthma</td>\n",
       "      <td>2023-12-20</td>\n",
       "      <td>Taylor Newton</td>\n",
       "      <td>Nunez-Humphrey</td>\n",
       "      <td>UnitedHealthcare</td>\n",
       "      <td>48145.110951</td>\n",
       "      <td>389</td>\n",
       "      <td>Urgent</td>\n",
       "      <td>2023-12-24</td>\n",
       "      <td>Ibuprofen</td>\n",
       "      <td>Normal</td>\n",
       "    </tr>\n",
       "    <tr>\n",
       "      <th>6</th>\n",
       "      <td>edwArD EDWaRDs</td>\n",
       "      <td>21</td>\n",
       "      <td>Female</td>\n",
       "      <td>AB-</td>\n",
       "      <td>Diabetes</td>\n",
       "      <td>2020-11-03</td>\n",
       "      <td>Kelly Olson</td>\n",
       "      <td>Group Middleton</td>\n",
       "      <td>Medicare</td>\n",
       "      <td>19580.872345</td>\n",
       "      <td>389</td>\n",
       "      <td>Emergency</td>\n",
       "      <td>2020-11-15</td>\n",
       "      <td>Paracetamol</td>\n",
       "      <td>Inconclusive</td>\n",
       "    </tr>\n",
       "    <tr>\n",
       "      <th>7</th>\n",
       "      <td>CHrisTInA MARtinez</td>\n",
       "      <td>20</td>\n",
       "      <td>Female</td>\n",
       "      <td>A+</td>\n",
       "      <td>Cancer</td>\n",
       "      <td>2021-12-28</td>\n",
       "      <td>Suzanne Thomas</td>\n",
       "      <td>Powell Robinson and Valdez,</td>\n",
       "      <td>Cigna</td>\n",
       "      <td>45820.462722</td>\n",
       "      <td>277</td>\n",
       "      <td>Emergency</td>\n",
       "      <td>2022-01-07</td>\n",
       "      <td>Paracetamol</td>\n",
       "      <td>Inconclusive</td>\n",
       "    </tr>\n",
       "    <tr>\n",
       "      <th>8</th>\n",
       "      <td>JASmINe aGuIlaR</td>\n",
       "      <td>82</td>\n",
       "      <td>Male</td>\n",
       "      <td>AB+</td>\n",
       "      <td>Asthma</td>\n",
       "      <td>2020-07-01</td>\n",
       "      <td>Daniel Ferguson</td>\n",
       "      <td>Sons Rich and</td>\n",
       "      <td>Cigna</td>\n",
       "      <td>50119.222792</td>\n",
       "      <td>316</td>\n",
       "      <td>Elective</td>\n",
       "      <td>2020-07-14</td>\n",
       "      <td>Aspirin</td>\n",
       "      <td>Abnormal</td>\n",
       "    </tr>\n",
       "    <tr>\n",
       "      <th>9</th>\n",
       "      <td>ChRISTopher BerG</td>\n",
       "      <td>58</td>\n",
       "      <td>Female</td>\n",
       "      <td>AB-</td>\n",
       "      <td>Cancer</td>\n",
       "      <td>2021-05-23</td>\n",
       "      <td>Heather Day</td>\n",
       "      <td>Padilla-Walker</td>\n",
       "      <td>UnitedHealthcare</td>\n",
       "      <td>19784.631062</td>\n",
       "      <td>249</td>\n",
       "      <td>Elective</td>\n",
       "      <td>2021-06-22</td>\n",
       "      <td>Paracetamol</td>\n",
       "      <td>Inconclusive</td>\n",
       "    </tr>\n",
       "  </tbody>\n",
       "</table>\n",
       "</div>"
      ],
      "text/plain": [
       "                 Name  Age  Gender Blood Type Medical Condition  \\\n",
       "0       Bobby JacksOn   30    Male         B-            Cancer   \n",
       "1        LesLie TErRy   62    Male         A+           Obesity   \n",
       "2         DaNnY sMitH   76  Female         A-           Obesity   \n",
       "3        andrEw waTtS   28  Female         O+          Diabetes   \n",
       "4       adrIENNE bEll   43  Female        AB+            Cancer   \n",
       "5       EMILY JOHNSOn   36    Male         A+            Asthma   \n",
       "6      edwArD EDWaRDs   21  Female        AB-          Diabetes   \n",
       "7  CHrisTInA MARtinez   20  Female         A+            Cancer   \n",
       "8     JASmINe aGuIlaR   82    Male        AB+            Asthma   \n",
       "9    ChRISTopher BerG   58  Female        AB-            Cancer   \n",
       "\n",
       "  Date of Admission            Doctor                     Hospital  \\\n",
       "0        2024-01-31     Matthew Smith              Sons and Miller   \n",
       "1        2019-08-20   Samantha Davies                      Kim Inc   \n",
       "2        2022-09-22  Tiffany Mitchell                     Cook PLC   \n",
       "3        2020-11-18       Kevin Wells   Hernandez Rogers and Vang,   \n",
       "4        2022-09-19    Kathleen Hanna                  White-White   \n",
       "5        2023-12-20     Taylor Newton               Nunez-Humphrey   \n",
       "6        2020-11-03       Kelly Olson              Group Middleton   \n",
       "7        2021-12-28    Suzanne Thomas  Powell Robinson and Valdez,   \n",
       "8        2020-07-01   Daniel Ferguson                Sons Rich and   \n",
       "9        2021-05-23       Heather Day               Padilla-Walker   \n",
       "\n",
       "  Insurance Provider  Billing Amount  Room Number Admission Type  \\\n",
       "0         Blue Cross    18856.281306          328         Urgent   \n",
       "1           Medicare    33643.327287          265      Emergency   \n",
       "2              Aetna    27955.096079          205      Emergency   \n",
       "3           Medicare    37909.782410          450       Elective   \n",
       "4              Aetna    14238.317814          458         Urgent   \n",
       "5   UnitedHealthcare    48145.110951          389         Urgent   \n",
       "6           Medicare    19580.872345          389      Emergency   \n",
       "7              Cigna    45820.462722          277      Emergency   \n",
       "8              Cigna    50119.222792          316       Elective   \n",
       "9   UnitedHealthcare    19784.631062          249       Elective   \n",
       "\n",
       "  Discharge Date   Medication  Test Results  \n",
       "0     2024-02-02  Paracetamol        Normal  \n",
       "1     2019-08-26    Ibuprofen  Inconclusive  \n",
       "2     2022-10-07      Aspirin        Normal  \n",
       "3     2020-12-18    Ibuprofen      Abnormal  \n",
       "4     2022-10-09   Penicillin      Abnormal  \n",
       "5     2023-12-24    Ibuprofen        Normal  \n",
       "6     2020-11-15  Paracetamol  Inconclusive  \n",
       "7     2022-01-07  Paracetamol  Inconclusive  \n",
       "8     2020-07-14      Aspirin      Abnormal  \n",
       "9     2021-06-22  Paracetamol  Inconclusive  "
      ]
     },
     "execution_count": 8,
     "metadata": {},
     "output_type": "execute_result"
    }
   ],
   "source": [
    "hc_df.head(10)"
   ]
  },
  {
   "cell_type": "code",
   "execution_count": 9,
   "id": "b2b6e13c",
   "metadata": {},
   "outputs": [],
   "source": [
    "hc_df['Date of Admission'] = pd.to_datetime(hc_df['Date of Admission'])\n",
    "hc_df['Discharge Date'] = pd.to_datetime(hc_df['Discharge Date'])"
   ]
  },
  {
   "cell_type": "code",
   "execution_count": 10,
   "id": "19d00248",
   "metadata": {},
   "outputs": [
    {
     "name": "stdout",
     "output_type": "stream",
     "text": [
      "<class 'pandas.core.frame.DataFrame'>\n",
      "RangeIndex: 55500 entries, 0 to 55499\n",
      "Data columns (total 15 columns):\n",
      " #   Column              Non-Null Count  Dtype         \n",
      "---  ------              --------------  -----         \n",
      " 0   Name                55500 non-null  object        \n",
      " 1   Age                 55500 non-null  int64         \n",
      " 2   Gender              55500 non-null  object        \n",
      " 3   Blood Type          55500 non-null  object        \n",
      " 4   Medical Condition   55500 non-null  object        \n",
      " 5   Date of Admission   55500 non-null  datetime64[ns]\n",
      " 6   Doctor              55500 non-null  object        \n",
      " 7   Hospital            55500 non-null  object        \n",
      " 8   Insurance Provider  55500 non-null  object        \n",
      " 9   Billing Amount      55500 non-null  float64       \n",
      " 10  Room Number         55500 non-null  int64         \n",
      " 11  Admission Type      55500 non-null  object        \n",
      " 12  Discharge Date      55500 non-null  datetime64[ns]\n",
      " 13  Medication          55500 non-null  object        \n",
      " 14  Test Results        55500 non-null  object        \n",
      "dtypes: datetime64[ns](2), float64(1), int64(2), object(10)\n",
      "memory usage: 6.4+ MB\n"
     ]
    }
   ],
   "source": [
    "hc_df.info()"
   ]
  },
  {
   "cell_type": "markdown",
   "id": "722ae71a",
   "metadata": {},
   "source": [
    "### Data Exploration"
   ]
  },
  {
   "cell_type": "code",
   "execution_count": 11,
   "id": "9376a1f6",
   "metadata": {},
   "outputs": [
    {
     "data": {
      "text/plain": [
       "Elective     18655\n",
       "Urgent       18576\n",
       "Emergency    18269\n",
       "Name: Admission Type, dtype: int64"
      ]
     },
     "execution_count": 11,
     "metadata": {},
     "output_type": "execute_result"
    }
   ],
   "source": [
    "hc_df['Admission Type'].value_counts()"
   ]
  },
  {
   "cell_type": "markdown",
   "id": "d0543e82",
   "metadata": {},
   "source": [
    "There are three categories of admission type. Class imbalance is not oberserved as each category has ~18k records.\n",
    "* Elective\n",
    "* Urgent\n",
    "* Emergency"
   ]
  },
  {
   "cell_type": "code",
   "execution_count": 12,
   "id": "7c2f9ff8",
   "metadata": {},
   "outputs": [
    {
     "data": {
      "text/plain": [
       "count    55500.000000\n",
       "mean        51.539459\n",
       "std         19.602454\n",
       "min         13.000000\n",
       "25%         35.000000\n",
       "50%         52.000000\n",
       "75%         68.000000\n",
       "max         89.000000\n",
       "Name: Age, dtype: float64"
      ]
     },
     "execution_count": 12,
     "metadata": {},
     "output_type": "execute_result"
    }
   ],
   "source": [
    "hc_df['Age'].describe(include='all')"
   ]
  },
  {
   "cell_type": "markdown",
   "id": "71d82d86",
   "metadata": {},
   "source": [
    "The Age of patients is ranging from 13 to 89 years. \n",
    "* Plot histogram and Box plot\n",
    "* Run statistical test for normal distribution"
   ]
  },
  {
   "cell_type": "code",
   "execution_count": null,
   "id": "7fb9c23f",
   "metadata": {},
   "outputs": [],
   "source": []
  },
  {
   "cell_type": "code",
   "execution_count": 13,
   "id": "71709c09",
   "metadata": {},
   "outputs": [
    {
     "data": {
      "text/plain": [
       "count    55500.000000\n",
       "mean     25539.316097\n",
       "std      14211.454431\n",
       "min      -2008.492140\n",
       "25%      13241.224652\n",
       "50%      25538.069376\n",
       "75%      37820.508436\n",
       "max      52764.276736\n",
       "Name: Billing Amount, dtype: float64"
      ]
     },
     "execution_count": 13,
     "metadata": {},
     "output_type": "execute_result"
    }
   ],
   "source": [
    "hc_df['Billing Amount'].describe(include='all')"
   ]
  },
  {
   "cell_type": "markdown",
   "id": "c81358a5",
   "metadata": {},
   "source": [
    "Assuming the amount to be in USD. On an average patients are billed $25,539. \n",
    "* Plot histogram for skewness check.\n",
    "* Check the -ve amount under minimum\n",
    "* Find the records with -ve billing amount"
   ]
  },
  {
   "cell_type": "code",
   "execution_count": 14,
   "id": "02c9e5eb",
   "metadata": {},
   "outputs": [
    {
     "data": {
      "text/plain": [
       "A-     6969\n",
       "A+     6956\n",
       "AB+    6947\n",
       "AB-    6945\n",
       "B+     6945\n",
       "B-     6944\n",
       "O+     6917\n",
       "O-     6877\n",
       "Name: Blood Type, dtype: int64"
      ]
     },
     "execution_count": 14,
     "metadata": {},
     "output_type": "execute_result"
    }
   ],
   "source": [
    "hc_df['Blood Type'].value_counts()"
   ]
  },
  {
   "cell_type": "markdown",
   "id": "0e77e3e3",
   "metadata": {},
   "source": [
    "There are eight categories of blood type. Class imbalance is not oberserved as each category has ~6k records.\n",
    "* A-,A+\n",
    "* B-,B+\n",
    "* AB-,AB+\n",
    "* O-,O+"
   ]
  },
  {
   "cell_type": "code",
   "execution_count": 15,
   "id": "96852418",
   "metadata": {},
   "outputs": [
    {
     "name": "stderr",
     "output_type": "stream",
     "text": [
      "/var/folders/z1/qyczzcsn20q235vpf9n6j17w0000gn/T/ipykernel_21483/1963798732.py:1: FutureWarning: Treating datetime data as categorical rather than numeric in `.describe` is deprecated and will be removed in a future version of pandas. Specify `datetime_is_numeric=True` to silence this warning and adopt the future behavior now.\n",
      "  hc_df['Date of Admission'].describe()\n"
     ]
    },
    {
     "data": {
      "text/plain": [
       "count                   55500\n",
       "unique                   1827\n",
       "top       2024-03-16 00:00:00\n",
       "freq                       50\n",
       "first     2019-05-08 00:00:00\n",
       "last      2024-05-07 00:00:00\n",
       "Name: Date of Admission, dtype: object"
      ]
     },
     "execution_count": 15,
     "metadata": {},
     "output_type": "execute_result"
    }
   ],
   "source": [
    "hc_df['Date of Admission'].describe()"
   ]
  },
  {
   "cell_type": "code",
   "execution_count": 16,
   "id": "fe42ebb6",
   "metadata": {},
   "outputs": [
    {
     "name": "stderr",
     "output_type": "stream",
     "text": [
      "/var/folders/z1/qyczzcsn20q235vpf9n6j17w0000gn/T/ipykernel_21483/2651826647.py:1: FutureWarning: Treating datetime data as categorical rather than numeric in `.describe` is deprecated and will be removed in a future version of pandas. Specify `datetime_is_numeric=True` to silence this warning and adopt the future behavior now.\n",
      "  hc_df['Discharge Date'].describe(include='all')\n"
     ]
    },
    {
     "data": {
      "text/plain": [
       "count                   55500\n",
       "unique                   1856\n",
       "top       2020-03-15 00:00:00\n",
       "freq                       53\n",
       "first     2019-05-09 00:00:00\n",
       "last      2024-06-06 00:00:00\n",
       "Name: Discharge Date, dtype: object"
      ]
     },
     "execution_count": 16,
     "metadata": {},
     "output_type": "execute_result"
    }
   ],
   "source": [
    "hc_df['Discharge Date'].describe(include='all')"
   ]
  },
  {
   "cell_type": "markdown",
   "id": "8003bb12",
   "metadata": {},
   "source": [
    "Patients data ranges from May 2019 to May 2024.\n",
    "* Time series analysis can be performed.\n",
    "* Trend in Admission dates must be observed along side other variables.\n",
    "* Time taken by patients from admission to discharge must be noted. "
   ]
  },
  {
   "cell_type": "code",
   "execution_count": 17,
   "id": "6c4deb4e",
   "metadata": {},
   "outputs": [
    {
     "data": {
      "text/plain": [
       "Michael Smith           27\n",
       "Robert Smith            22\n",
       "John Smith              22\n",
       "Michael Johnson         20\n",
       "James Smith             20\n",
       "                        ..\n",
       "Audrey Zimmerman DDS     1\n",
       "Justin Banks             1\n",
       "Joseph Williams Jr.      1\n",
       "Jason Franklin           1\n",
       "Jeffrey Moore            1\n",
       "Name: Doctor, Length: 40341, dtype: int64"
      ]
     },
     "execution_count": 17,
     "metadata": {},
     "output_type": "execute_result"
    }
   ],
   "source": [
    "hc_df['Doctor'].value_counts()"
   ]
  },
  {
   "cell_type": "code",
   "execution_count": 18,
   "id": "837a2f49",
   "metadata": {},
   "outputs": [
    {
     "data": {
      "text/plain": [
       "count             55500\n",
       "unique            40341\n",
       "top       Michael Smith\n",
       "freq                 27\n",
       "Name: Doctor, dtype: object"
      ]
     },
     "execution_count": 18,
     "metadata": {},
     "output_type": "execute_result"
    }
   ],
   "source": [
    "hc_df['Doctor'].describe(include='all')"
   ]
  },
  {
   "cell_type": "markdown",
   "id": "7f47d4e1",
   "metadata": {},
   "source": [
    "* Among all doctors Michael Smith has attended most patients followed by Robert Smith.\n",
    "* There are 40,341 unique doctors in this data.\n",
    "* Top 10 Doctors in the data, top 10 doctors who attended most patients by Hospital, Gender, Diseases and more can be studied furthur. "
   ]
  },
  {
   "cell_type": "code",
   "execution_count": 19,
   "id": "5881d82b",
   "metadata": {},
   "outputs": [
    {
     "data": {
      "text/plain": [
       "count     55500\n",
       "unique        2\n",
       "top        Male\n",
       "freq      27774\n",
       "Name: Gender, dtype: object"
      ]
     },
     "execution_count": 19,
     "metadata": {},
     "output_type": "execute_result"
    }
   ],
   "source": [
    "hc_df['Gender'].describe(include='all')"
   ]
  },
  {
   "cell_type": "code",
   "execution_count": 20,
   "id": "c283abbb",
   "metadata": {},
   "outputs": [
    {
     "data": {
      "text/plain": [
       "Male      27774\n",
       "Female    27726\n",
       "Name: Gender, dtype: int64"
      ]
     },
     "execution_count": 20,
     "metadata": {},
     "output_type": "execute_result"
    }
   ],
   "source": [
    "hc_df['Gender'].value_counts()"
   ]
  },
  {
   "cell_type": "markdown",
   "id": "ad09c8f8",
   "metadata": {},
   "source": [
    "There are 2 genders Male and Female.\n",
    "* Gender based studies can be sensitive.\n",
    "* In scope of diseases, hospital, medication, test results analysis will be performed for futher insights and trends."
   ]
  },
  {
   "cell_type": "code",
   "execution_count": 21,
   "id": "d8b35ae3",
   "metadata": {},
   "outputs": [
    {
     "data": {
      "text/plain": [
       "LLC Smith                      44\n",
       "Ltd Smith                      39\n",
       "Johnson PLC                    38\n",
       "Smith Ltd                      37\n",
       "Smith PLC                      36\n",
       "                               ..\n",
       "and Montoya Flores, Boyer       1\n",
       "Carter and Dunn King,           1\n",
       "Hall, Brown Black and           1\n",
       "Peterson Scott and Thomas,      1\n",
       "Moreno Murphy, Griffith and     1\n",
       "Name: Hospital, Length: 39876, dtype: int64"
      ]
     },
     "execution_count": 21,
     "metadata": {},
     "output_type": "execute_result"
    }
   ],
   "source": [
    "hc_df['Hospital'].value_counts()"
   ]
  },
  {
   "cell_type": "code",
   "execution_count": 22,
   "id": "5fe4dd8e",
   "metadata": {},
   "outputs": [
    {
     "data": {
      "text/plain": [
       "count         55500\n",
       "unique        39876\n",
       "top       LLC Smith\n",
       "freq             44\n",
       "Name: Hospital, dtype: object"
      ]
     },
     "execution_count": 22,
     "metadata": {},
     "output_type": "execute_result"
    }
   ],
   "source": [
    "hc_df['Hospital'].describe(include='all')"
   ]
  },
  {
   "cell_type": "markdown",
   "id": "0a71cb5d",
   "metadata": {},
   "source": [
    "There are 39,876 unique hospitals in this data. LLC Smith hospital is the most visited followed by Ltd Smith."
   ]
  },
  {
   "cell_type": "code",
   "execution_count": 23,
   "id": "236e71ea",
   "metadata": {},
   "outputs": [
    {
     "data": {
      "text/plain": [
       "Cigna               11249\n",
       "Medicare            11154\n",
       "UnitedHealthcare    11125\n",
       "Blue Cross          11059\n",
       "Aetna               10913\n",
       "Name: Insurance Provider, dtype: int64"
      ]
     },
     "execution_count": 23,
     "metadata": {},
     "output_type": "execute_result"
    }
   ],
   "source": [
    "hc_df['Insurance Provider'].value_counts()"
   ]
  },
  {
   "cell_type": "code",
   "execution_count": 24,
   "id": "6176b747",
   "metadata": {},
   "outputs": [
    {
     "data": {
      "text/plain": [
       "count     55500\n",
       "unique        5\n",
       "top       Cigna\n",
       "freq      11249\n",
       "Name: Insurance Provider, dtype: object"
      ]
     },
     "execution_count": 24,
     "metadata": {},
     "output_type": "execute_result"
    }
   ],
   "source": [
    "hc_df['Insurance Provider'].describe()"
   ]
  },
  {
   "cell_type": "markdown",
   "id": "a18612ab",
   "metadata": {},
   "source": [
    "Cigna is the top insurance provider among 5 other insurance providers. The 5 insurance providers are equally distributed with ~11k among all patients.\n",
    "* list the medical conditions.\n",
    "* list the insurance providers"
   ]
  },
  {
   "cell_type": "code",
   "execution_count": 25,
   "id": "2dd744ef",
   "metadata": {},
   "outputs": [
    {
     "data": {
      "text/plain": [
       "Arthritis       9308\n",
       "Diabetes        9304\n",
       "Hypertension    9245\n",
       "Obesity         9231\n",
       "Cancer          9227\n",
       "Asthma          9185\n",
       "Name: Medical Condition, dtype: int64"
      ]
     },
     "execution_count": 25,
     "metadata": {},
     "output_type": "execute_result"
    }
   ],
   "source": [
    "hc_df['Medical Condition'].value_counts()"
   ]
  },
  {
   "cell_type": "code",
   "execution_count": 26,
   "id": "49c716dd",
   "metadata": {},
   "outputs": [
    {
     "data": {
      "text/plain": [
       "count         55500\n",
       "unique            6\n",
       "top       Arthritis\n",
       "freq           9308\n",
       "Name: Medical Condition, dtype: object"
      ]
     },
     "execution_count": 26,
     "metadata": {},
     "output_type": "execute_result"
    }
   ],
   "source": [
    "hc_df['Medical Condition'].describe(include='all')"
   ]
  },
  {
   "cell_type": "markdown",
   "id": "f8369f76",
   "metadata": {},
   "source": [
    "Arthritis is the top Medical condition among 6 other medical conditiona. The 6 medical conditiona are equally distributed with ~9k among all patients.\n",
    "* list the medical conditions.\n",
    "* list the medical conditions"
   ]
  },
  {
   "cell_type": "code",
   "execution_count": 27,
   "id": "391f4121",
   "metadata": {},
   "outputs": [
    {
     "data": {
      "text/plain": [
       "Lipitor        11140\n",
       "Ibuprofen      11127\n",
       "Aspirin        11094\n",
       "Paracetamol    11071\n",
       "Penicillin     11068\n",
       "Name: Medication, dtype: int64"
      ]
     },
     "execution_count": 27,
     "metadata": {},
     "output_type": "execute_result"
    }
   ],
   "source": [
    "hc_df['Medication'].value_counts()"
   ]
  },
  {
   "cell_type": "code",
   "execution_count": 28,
   "id": "22c1508a",
   "metadata": {},
   "outputs": [
    {
     "data": {
      "text/plain": [
       "count       55500\n",
       "unique          5\n",
       "top       Lipitor\n",
       "freq        11140\n",
       "Name: Medication, dtype: object"
      ]
     },
     "execution_count": 28,
     "metadata": {},
     "output_type": "execute_result"
    }
   ],
   "source": [
    "hc_df['Medication'].describe()"
   ]
  },
  {
   "cell_type": "markdown",
   "id": "ff4c55da",
   "metadata": {},
   "source": [
    "Lipitor is the top Medication among 5 other medications. The 5 medications are equally distributed with ~11k among all patients.\n",
    "* list the medical conditions"
   ]
  },
  {
   "cell_type": "code",
   "execution_count": 31,
   "id": "d792661f",
   "metadata": {},
   "outputs": [],
   "source": [
    "hc_df['Room Number'] = hc_df['Room Number'].astype(str)"
   ]
  },
  {
   "cell_type": "code",
   "execution_count": 32,
   "id": "1178d3c4",
   "metadata": {},
   "outputs": [
    {
     "data": {
      "text/plain": [
       "count     55500\n",
       "unique      400\n",
       "top         393\n",
       "freq        181\n",
       "Name: Room Number, dtype: object"
      ]
     },
     "execution_count": 32,
     "metadata": {},
     "output_type": "execute_result"
    }
   ],
   "source": [
    "hc_df['Room Number'].describe(include='all')"
   ]
  },
  {
   "cell_type": "code",
   "execution_count": 33,
   "id": "54c0f8d6",
   "metadata": {},
   "outputs": [
    {
     "data": {
      "text/plain": [
       "393    181\n",
       "491    177\n",
       "104    175\n",
       "420    175\n",
       "209    171\n",
       "      ... \n",
       "253    112\n",
       "254    111\n",
       "257    111\n",
       "381    110\n",
       "398    109\n",
       "Name: Room Number, Length: 400, dtype: int64"
      ]
     },
     "execution_count": 33,
     "metadata": {},
     "output_type": "execute_result"
    }
   ],
   "source": [
    "hc_df['Room Number'].value_counts()"
   ]
  },
  {
   "cell_type": "markdown",
   "id": "5326cd45",
   "metadata": {},
   "source": [
    "There are 400 rooms across all the hospitals in this dataset.\n",
    "Most used rooms are 393, 491, 104, 420 and 209.\n",
    "\n",
    "* plot a graph to see the distribution"
   ]
  },
  {
   "cell_type": "code",
   "execution_count": 30,
   "id": "f155578f",
   "metadata": {},
   "outputs": [
    {
     "data": {
      "text/plain": [
       "Abnormal        18627\n",
       "Normal          18517\n",
       "Inconclusive    18356\n",
       "Name: Test Results, dtype: int64"
      ]
     },
     "execution_count": 30,
     "metadata": {},
     "output_type": "execute_result"
    }
   ],
   "source": [
    "hc_df['Test Results'].value_counts()"
   ]
  },
  {
   "cell_type": "code",
   "execution_count": 34,
   "id": "3dcdd2dc",
   "metadata": {},
   "outputs": [
    {
     "data": {
      "text/plain": [
       "count        55500\n",
       "unique           3\n",
       "top       Abnormal\n",
       "freq         18627\n",
       "Name: Test Results, dtype: object"
      ]
     },
     "execution_count": 34,
     "metadata": {},
     "output_type": "execute_result"
    }
   ],
   "source": [
    "hc_df['Test Results'].describe()"
   ]
  },
  {
   "cell_type": "markdown",
   "id": "f617cfc9",
   "metadata": {},
   "source": [
    "There are 3 types of results Abnormal, Normal and Inconclusive."
   ]
  },
  {
   "cell_type": "code",
   "execution_count": 35,
   "id": "4a0a3924",
   "metadata": {},
   "outputs": [
    {
     "name": "stdout",
     "output_type": "stream",
     "text": [
      "<class 'pandas.core.frame.DataFrame'>\n",
      "RangeIndex: 55500 entries, 0 to 55499\n",
      "Data columns (total 15 columns):\n",
      " #   Column              Non-Null Count  Dtype         \n",
      "---  ------              --------------  -----         \n",
      " 0   Name                55500 non-null  object        \n",
      " 1   Age                 55500 non-null  int64         \n",
      " 2   Gender              55500 non-null  object        \n",
      " 3   Blood Type          55500 non-null  object        \n",
      " 4   Medical Condition   55500 non-null  object        \n",
      " 5   Date of Admission   55500 non-null  datetime64[ns]\n",
      " 6   Doctor              55500 non-null  object        \n",
      " 7   Hospital            55500 non-null  object        \n",
      " 8   Insurance Provider  55500 non-null  object        \n",
      " 9   Billing Amount      55500 non-null  float64       \n",
      " 10  Room Number         55500 non-null  object        \n",
      " 11  Admission Type      55500 non-null  object        \n",
      " 12  Discharge Date      55500 non-null  datetime64[ns]\n",
      " 13  Medication          55500 non-null  object        \n",
      " 14  Test Results        55500 non-null  object        \n",
      "dtypes: datetime64[ns](2), float64(1), int64(1), object(11)\n",
      "memory usage: 6.4+ MB\n"
     ]
    }
   ],
   "source": [
    "hc_df.info()"
   ]
  },
  {
   "cell_type": "markdown",
   "id": "dc4fbddc",
   "metadata": {},
   "source": [
    "### Analysis to gain further insights from the data."
   ]
  },
  {
   "cell_type": "markdown",
   "id": "8d430e1a",
   "metadata": {},
   "source": [
    "* Creation of additional variables."
   ]
  },
  {
   "cell_type": "code",
   "execution_count": 48,
   "id": "4cbcc2e9",
   "metadata": {},
   "outputs": [],
   "source": [
    "hc_df['Days in bed'] = hc_df['Discharge Date'] - hc_df['Date of Admission']"
   ]
  },
  {
   "cell_type": "code",
   "execution_count": 50,
   "id": "4de7dfe5",
   "metadata": {},
   "outputs": [
    {
     "data": {
      "text/plain": [
       "0    2 days\n",
       "1    6 days\n",
       "2   15 days\n",
       "3   30 days\n",
       "4   20 days\n",
       "5    4 days\n",
       "6   12 days\n",
       "7   10 days\n",
       "8   13 days\n",
       "9   30 days\n",
       "Name: Days in bed, dtype: timedelta64[ns]"
      ]
     },
     "execution_count": 50,
     "metadata": {},
     "output_type": "execute_result"
    }
   ],
   "source": [
    "hc_df['Days in bed'].head(10)"
   ]
  },
  {
   "cell_type": "code",
   "execution_count": 53,
   "id": "5374bb09",
   "metadata": {},
   "outputs": [],
   "source": [
    "hc_df['Days in bed'] = hc_df['Days in bed'].astype('timedelta64[D]').astype(np.int64)\n"
   ]
  },
  {
   "cell_type": "code",
   "execution_count": 54,
   "id": "428df3e1",
   "metadata": {},
   "outputs": [
    {
     "name": "stdout",
     "output_type": "stream",
     "text": [
      "<class 'pandas.core.frame.DataFrame'>\n",
      "RangeIndex: 55500 entries, 0 to 55499\n",
      "Data columns (total 16 columns):\n",
      " #   Column              Non-Null Count  Dtype         \n",
      "---  ------              --------------  -----         \n",
      " 0   Name                55500 non-null  object        \n",
      " 1   Age                 55500 non-null  int64         \n",
      " 2   Gender              55500 non-null  object        \n",
      " 3   Blood Type          55500 non-null  object        \n",
      " 4   Medical Condition   55500 non-null  object        \n",
      " 5   Date of Admission   55500 non-null  datetime64[ns]\n",
      " 6   Doctor              55500 non-null  object        \n",
      " 7   Hospital            55500 non-null  object        \n",
      " 8   Insurance Provider  55500 non-null  object        \n",
      " 9   Billing Amount      55500 non-null  float64       \n",
      " 10  Room Number         55500 non-null  object        \n",
      " 11  Admission Type      55500 non-null  object        \n",
      " 12  Discharge Date      55500 non-null  datetime64[ns]\n",
      " 13  Medication          55500 non-null  object        \n",
      " 14  Test Results        55500 non-null  object        \n",
      " 15  Days in bed         55500 non-null  int64         \n",
      "dtypes: datetime64[ns](2), float64(1), int64(2), object(11)\n",
      "memory usage: 6.8+ MB\n"
     ]
    }
   ],
   "source": [
    "hc_df.info()"
   ]
  },
  {
   "cell_type": "code",
   "execution_count": null,
   "id": "8a5adca1",
   "metadata": {},
   "outputs": [],
   "source": [
    "hc_df['Age Group'] = "
   ]
  }
 ],
 "metadata": {
  "kernelspec": {
   "display_name": "base",
   "language": "python",
   "name": "python3"
  },
  "language_info": {
   "codemirror_mode": {
    "name": "ipython",
    "version": 3
   },
   "file_extension": ".py",
   "mimetype": "text/x-python",
   "name": "python",
   "nbconvert_exporter": "python",
   "pygments_lexer": "ipython3",
   "version": "3.11.8"
  }
 },
 "nbformat": 4,
 "nbformat_minor": 5
}
