{
 "cells": [
  {
   "cell_type": "code",
   "execution_count": 1,
   "id": "fba3b67d",
   "metadata": {},
   "outputs": [],
   "source": [
    "import re"
   ]
  },
  {
   "cell_type": "code",
   "execution_count": 3,
   "id": "9c3255de",
   "metadata": {},
   "outputs": [
    {
     "name": "stdout",
     "output_type": "stream",
     "text": [
      "['split', 'this', 'string']\n"
     ]
    }
   ],
   "source": [
    "print(re.split(string=\"split this string\",pattern=\" \"))"
   ]
  }
 ],
 "metadata": {
  "kernelspec": {
   "display_name": "aiwp_3129",
   "language": "python",
   "name": "python3"
  },
  "language_info": {
   "codemirror_mode": {
    "name": "ipython",
    "version": 3
   },
   "file_extension": ".py",
   "mimetype": "text/x-python",
   "name": "python",
   "nbconvert_exporter": "python",
   "pygments_lexer": "ipython3",
   "version": "3.12.9"
  }
 },
 "nbformat": 4,
 "nbformat_minor": 5
}
